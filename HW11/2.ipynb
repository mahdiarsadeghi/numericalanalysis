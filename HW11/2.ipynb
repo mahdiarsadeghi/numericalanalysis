{
 "cells": [
  {
   "cell_type": "code",
   "execution_count": 1,
   "metadata": {},
   "outputs": [],
   "source": [
    "using Plots"
   ]
  },
  {
   "cell_type": "markdown",
   "metadata": {},
   "source": [
    "# Gaussian Quadrature"
   ]
  },
  {
   "cell_type": "code",
   "execution_count": 2,
   "metadata": {},
   "outputs": [
    {
     "data": {
      "text/plain": [
       "gaussquad (generic function with 1 method)"
      ]
     },
     "execution_count": 2,
     "metadata": {},
     "output_type": "execute_result"
    }
   ],
   "source": [
    "function gaussquad(a,b,f)\n",
    "    q = (b-a)/2\n",
    "    wi = [0.4179591836734694\n",
    "          0.3818300505051189\n",
    "          0.3818300505051189\n",
    "          0.2797053914892766\n",
    "          0.2797053914892766\n",
    "          0.1294849661688697\n",
    "          0.1294849661688697]\n",
    "    xi = [0.0000000000000000\n",
    "          0.4058451513773972\n",
    "         -0.4058451513773972\n",
    "         -0.7415311855993945\n",
    "          0.7415311855993945\n",
    "         -0.9491079123427585\n",
    "          0.9491079123427585]\n",
    "    q*sum(wi.*f.(q*xi.+(a+b)/2))\n",
    "end"
   ]
  },
  {
   "cell_type": "code",
   "execution_count": 3,
   "metadata": {},
   "outputs": [
    {
     "data": {
      "text/plain": [
       "gaussquad2 (generic function with 1 method)"
      ]
     },
     "execution_count": 3,
     "metadata": {},
     "output_type": "execute_result"
    }
   ],
   "source": [
    "function gaussquad2(a₁,a₂,b₁,b₂,f)\n",
    "    q₁ = (b₁-a₁)/2\n",
    "    q₂ = (b₂-a₂)/2\n",
    "    wᵢ = [0.4179591836734694\n",
    "          0.3818300505051189\n",
    "          0.3818300505051189\n",
    "          0.2797053914892766\n",
    "          0.2797053914892766\n",
    "          0.1294849661688697\n",
    "          0.1294849661688697]\n",
    "    xᵢ = [0.0000000000000000\n",
    "          0.4058451513773972\n",
    "         -0.4058451513773972\n",
    "         -0.7415311855993945\n",
    "          0.7415311855993945\n",
    "         -0.9491079123427585\n",
    "          0.9491079123427585]\n",
    "    s = 0\n",
    "    for i = 1:7\n",
    "        x₁ = q₁*xᵢ[i]+(b₁+a₁)/2\n",
    "        for j = 1:7\n",
    "            x₂ = q₂*xᵢ[j]+(b₂+a₂)/2\n",
    "            s += wᵢ[i]*wᵢ[j]*f(x₁,x₂)\n",
    "        end\n",
    "    end\n",
    "    return s\n",
    "end"
   ]
  },
  {
   "cell_type": "code",
   "execution_count": 4,
   "metadata": {},
   "outputs": [
    {
     "data": {
      "text/plain": [
       "-2.5464790894726046"
      ]
     },
     "execution_count": 4,
     "metadata": {},
     "output_type": "execute_result"
    }
   ],
   "source": [
    "f(θ,ϕ) = sin(θ)*cos(ϕ)^2\n",
    "\n",
    "gaussquad2(0,π,-π,π,f)"
   ]
  },
  {
   "cell_type": "code",
   "execution_count": 5,
   "metadata": {},
   "outputs": [
    {
     "data": {
      "text/plain": [
       "1.570796313731125"
      ]
     },
     "execution_count": 5,
     "metadata": {},
     "output_type": "execute_result"
    }
   ],
   "source": [
    "f(ϕ) = cos(ϕ)^2\n",
    "g(θ) = sin(θ)*gaussquad(-π,π,f)\n",
    "gaussquad(0,π,f)"
   ]
  },
  {
   "cell_type": "markdown",
   "metadata": {},
   "source": [
    "# Wolfram result: $2\\pi$"
   ]
  },
  {
   "cell_type": "markdown",
   "metadata": {},
   "source": [
    "## Adjourn"
   ]
  },
  {
   "cell_type": "code",
   "execution_count": 6,
   "metadata": {},
   "outputs": [
    {
     "name": "stdout",
     "output_type": "stream",
     "text": [
      "mahdiar\n"
     ]
    },
    {
     "data": {
      "text/plain": [
       "\"2021/April/17 18:40\""
      ]
     },
     "execution_count": 6,
     "metadata": {},
     "output_type": "execute_result"
    }
   ],
   "source": [
    "using Dates\n",
    "println(\"mahdiar\")\n",
    "Dates.format(now(), \"Y/U/d HH:MM\")  "
   ]
  }
 ],
 "metadata": {
  "kernelspec": {
   "display_name": "Julia 1.5.3",
   "language": "julia",
   "name": "julia-1.5"
  },
  "language_info": {
   "file_extension": ".jl",
   "mimetype": "application/julia",
   "name": "julia",
   "version": "1.5.3"
  }
 },
 "nbformat": 4,
 "nbformat_minor": 4
}
