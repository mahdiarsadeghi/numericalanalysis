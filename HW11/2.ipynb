{
 "cells": [
  {
   "cell_type": "code",
   "execution_count": 1,
   "metadata": {},
   "outputs": [],
   "source": [
    "using Plots"
   ]
  },
  {
   "cell_type": "markdown",
   "metadata": {},
   "source": [
    "# Gaussian Quadrature"
   ]
  },
  {
   "cell_type": "code",
   "execution_count": 2,
   "metadata": {},
   "outputs": [
    {
     "data": {
      "text/plain": [
       "gaussquad (generic function with 1 method)"
      ]
     },
     "execution_count": 2,
     "metadata": {},
     "output_type": "execute_result"
    }
   ],
   "source": [
    "function gaussquad(a,b,f)\n",
    "    p = (b+a)/2\n",
    "    q = (b-a)/2\n",
    "    w = [0.4179591836734694\n",
    "          0.3818300505051189\n",
    "          0.3818300505051189\n",
    "          0.2797053914892766\n",
    "          0.2797053914892766\n",
    "          0.1294849661688697\n",
    "          0.1294849661688697]\n",
    "    x = [0.0000000000000000\n",
    "          0.4058451513773972\n",
    "         -0.4058451513773972\n",
    "         -0.7415311855993945\n",
    "          0.7415311855993945\n",
    "         -0.9491079123427585\n",
    "          0.9491079123427585]\n",
    "    q*sum(w.*f.(q*x.+p))\n",
    "end"
   ]
  },
  {
   "cell_type": "code",
   "execution_count": 3,
   "metadata": {},
   "outputs": [
    {
     "data": {
      "text/plain": [
       "6.283719611393689"
      ]
     },
     "execution_count": 3,
     "metadata": {},
     "output_type": "execute_result"
    }
   ],
   "source": [
    "f(ϕ) = cos(ϕ)^2\n",
    "g(θ) = sin(θ)*gaussquad(-π,π,f)\n",
    "gaussquad(0,π,g)"
   ]
  },
  {
   "cell_type": "markdown",
   "metadata": {},
   "source": [
    "# Wolfram result: $2\\pi$"
   ]
  },
  {
   "cell_type": "markdown",
   "metadata": {},
   "source": [
    "## Adjourn"
   ]
  },
  {
   "cell_type": "code",
   "execution_count": 4,
   "metadata": {},
   "outputs": [
    {
     "name": "stdout",
     "output_type": "stream",
     "text": [
      "mahdiar\n"
     ]
    },
    {
     "data": {
      "text/plain": [
       "\"2021/April/18 08:29\""
      ]
     },
     "execution_count": 4,
     "metadata": {},
     "output_type": "execute_result"
    }
   ],
   "source": [
    "using Dates\n",
    "println(\"mahdiar\")\n",
    "Dates.format(now(), \"Y/U/d HH:MM\")  "
   ]
  }
 ],
 "metadata": {
  "kernelspec": {
   "display_name": "Julia 1.5.3",
   "language": "julia",
   "name": "julia-1.5"
  },
  "language_info": {
   "file_extension": ".jl",
   "mimetype": "application/julia",
   "name": "julia",
   "version": "1.5.3"
  }
 },
 "nbformat": 4,
 "nbformat_minor": 4
}
