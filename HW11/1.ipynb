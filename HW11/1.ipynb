{
 "cells": [
  {
   "cell_type": "markdown",
   "metadata": {},
   "source": [
    "# Definite Integral"
   ]
  },
  {
   "cell_type": "code",
   "execution_count": 1,
   "metadata": {},
   "outputs": [],
   "source": [
    "using Plots"
   ]
  },
  {
   "cell_type": "markdown",
   "metadata": {},
   "source": [
    "# $\\int_0^1 \\frac{arcsin(x)^2}{x^2} \\frac{dx}{\\sqrt{1-x^2}}=\\pi ln(2)$"
   ]
  },
  {
   "cell_type": "code",
   "execution_count": 2,
   "metadata": {},
   "outputs": [
    {
     "data": {
      "text/plain": [
       "nastyintegral (generic function with 1 method)"
      ]
     },
     "execution_count": 2,
     "metadata": {},
     "output_type": "execute_result"
    }
   ],
   "source": [
    "f(x) = (asin(x)/x)^2\n",
    "\n",
    "function nastyintegral(N)\n",
    "    i = 1:N\n",
    "    t = cos.(π*(2*i.-1)./(2*N))\n",
    "    w = π/N\n",
    "    sum(w*f.(t)./2)\n",
    "end"
   ]
  },
  {
   "cell_type": "code",
   "execution_count": 3,
   "metadata": {},
   "outputs": [
    {
     "data": {
      "image/svg+xml": [
       "<?xml version=\"1.0\" encoding=\"utf-8\"?>\n",
       "<svg xmlns=\"http://www.w3.org/2000/svg\" xmlns:xlink=\"http://www.w3.org/1999/xlink\" width=\"600\" height=\"400\" viewBox=\"0 0 2400 1600\">\n",
       "<defs>\n",
       "  <clipPath id=\"clip680\">\n",
       "    <rect x=\"0\" y=\"0\" width=\"2400\" height=\"1600\"/>\n",
       "  </clipPath>\n",
       "</defs>\n",
       "<path clip-path=\"url(#clip680)\" d=\"\n",
       "M0 1600 L2400 1600 L2400 0 L0 0  Z\n",
       "  \" fill=\"#ffffff\" fill-rule=\"evenodd\" fill-opacity=\"1\"/>\n",
       "<defs>\n",
       "  <clipPath id=\"clip681\">\n",
       "    <rect x=\"480\" y=\"0\" width=\"1681\" height=\"1600\"/>\n",
       "  </clipPath>\n",
       "</defs>\n",
       "<path clip-path=\"url(#clip680)\" d=\"\n",
       "M145.904 1486.45 L2352.76 1486.45 L2352.76 47.2441 L145.904 47.2441  Z\n",
       "  \" fill=\"#ffffff\" fill-rule=\"evenodd\" fill-opacity=\"1\"/>\n",
       "<defs>\n",
       "  <clipPath id=\"clip682\">\n",
       "    <rect x=\"145\" y=\"47\" width=\"2208\" height=\"1440\"/>\n",
       "  </clipPath>\n",
       "</defs>\n",
       "<polyline clip-path=\"url(#clip682)\" style=\"stroke:#000000; stroke-width:2; stroke-opacity:0.1; fill:none\" points=\"\n",
       "  495.525,1486.45 495.525,47.2441 \n",
       "  \"/>\n",
       "<polyline clip-path=\"url(#clip682)\" style=\"stroke:#000000; stroke-width:2; stroke-opacity:0.1; fill:none\" points=\"\n",
       "  854.48,1486.45 854.48,47.2441 \n",
       "  \"/>\n",
       "<polyline clip-path=\"url(#clip682)\" style=\"stroke:#000000; stroke-width:2; stroke-opacity:0.1; fill:none\" points=\"\n",
       "  1213.43,1486.45 1213.43,47.2441 \n",
       "  \"/>\n",
       "<polyline clip-path=\"url(#clip682)\" style=\"stroke:#000000; stroke-width:2; stroke-opacity:0.1; fill:none\" points=\"\n",
       "  1572.39,1486.45 1572.39,47.2441 \n",
       "  \"/>\n",
       "<polyline clip-path=\"url(#clip682)\" style=\"stroke:#000000; stroke-width:2; stroke-opacity:0.1; fill:none\" points=\"\n",
       "  1931.34,1486.45 1931.34,47.2441 \n",
       "  \"/>\n",
       "<polyline clip-path=\"url(#clip682)\" style=\"stroke:#000000; stroke-width:2; stroke-opacity:0.1; fill:none\" points=\"\n",
       "  2290.3,1486.45 2290.3,47.2441 \n",
       "  \"/>\n",
       "<polyline clip-path=\"url(#clip680)\" style=\"stroke:#000000; stroke-width:4; stroke-opacity:1; fill:none\" points=\"\n",
       "  145.904,1486.45 2352.76,1486.45 \n",
       "  \"/>\n",
       "<polyline clip-path=\"url(#clip680)\" style=\"stroke:#000000; stroke-width:4; stroke-opacity:1; fill:none\" points=\"\n",
       "  495.525,1486.45 495.525,1469.18 \n",
       "  \"/>\n",
       "<polyline clip-path=\"url(#clip680)\" style=\"stroke:#000000; stroke-width:4; stroke-opacity:1; fill:none\" points=\"\n",
       "  854.48,1486.45 854.48,1469.18 \n",
       "  \"/>\n",
       "<polyline clip-path=\"url(#clip680)\" style=\"stroke:#000000; stroke-width:4; stroke-opacity:1; fill:none\" points=\"\n",
       "  1213.43,1486.45 1213.43,1469.18 \n",
       "  \"/>\n",
       "<polyline clip-path=\"url(#clip680)\" style=\"stroke:#000000; stroke-width:4; stroke-opacity:1; fill:none\" points=\"\n",
       "  1572.39,1486.45 1572.39,1469.18 \n",
       "  \"/>\n",
       "<polyline clip-path=\"url(#clip680)\" style=\"stroke:#000000; stroke-width:4; stroke-opacity:1; fill:none\" points=\"\n",
       "  1931.34,1486.45 1931.34,1469.18 \n",
       "  \"/>\n",
       "<polyline clip-path=\"url(#clip680)\" style=\"stroke:#000000; stroke-width:4; stroke-opacity:1; fill:none\" points=\"\n",
       "  2290.3,1486.45 2290.3,1469.18 \n",
       "  \"/>\n",
       "<path clip-path=\"url(#clip680)\" d=\"M 0 0 M485.803 1512.56 L504.16 1512.56 L504.16 1516.5 L490.086 1516.5 L490.086 1524.97 Q491.104 1524.62 492.123 1524.46 Q493.141 1524.27 494.16 1524.27 Q499.947 1524.27 503.326 1527.44 Q506.706 1530.62 506.706 1536.03 Q506.706 1541.61 503.234 1544.71 Q499.762 1547.79 493.442 1547.79 Q491.266 1547.79 488.998 1547.42 Q486.752 1547.05 484.345 1546.31 L484.345 1541.61 Q486.428 1542.74 488.651 1543.3 Q490.873 1543.86 493.35 1543.86 Q497.354 1543.86 499.692 1541.75 Q502.03 1539.64 502.03 1536.03 Q502.03 1532.42 499.692 1530.31 Q497.354 1528.21 493.35 1528.21 Q491.475 1528.21 489.6 1528.62 Q487.748 1529.04 485.803 1529.92 L485.803 1512.56 Z\" fill=\"#000000\" fill-rule=\"evenodd\" fill-opacity=\"1\" /><path clip-path=\"url(#clip680)\" d=\"M 0 0 M831.355 1543.18 L838.994 1543.18 L838.994 1516.82 L830.684 1518.49 L830.684 1514.23 L838.948 1512.56 L843.624 1512.56 L843.624 1543.18 L851.262 1543.18 L851.262 1547.12 L831.355 1547.12 L831.355 1543.18 Z\" fill=\"#000000\" fill-rule=\"evenodd\" fill-opacity=\"1\" /><path clip-path=\"url(#clip680)\" d=\"M 0 0 M866.332 1515.64 Q862.721 1515.64 860.892 1519.2 Q859.086 1522.75 859.086 1529.87 Q859.086 1536.98 860.892 1540.55 Q862.721 1544.09 866.332 1544.09 Q869.966 1544.09 871.772 1540.55 Q873.6 1536.98 873.6 1529.87 Q873.6 1522.75 871.772 1519.2 Q869.966 1515.64 866.332 1515.64 M866.332 1511.93 Q872.142 1511.93 875.197 1516.54 Q878.276 1521.12 878.276 1529.87 Q878.276 1538.6 875.197 1543.21 Q872.142 1547.79 866.332 1547.79 Q860.522 1547.79 857.443 1543.21 Q854.387 1538.6 854.387 1529.87 Q854.387 1521.12 857.443 1516.54 Q860.522 1511.93 866.332 1511.93 Z\" fill=\"#000000\" fill-rule=\"evenodd\" fill-opacity=\"1\" /><path clip-path=\"url(#clip680)\" d=\"M 0 0 M1190.81 1543.18 L1198.45 1543.18 L1198.45 1516.82 L1190.14 1518.49 L1190.14 1514.23 L1198.4 1512.56 L1203.08 1512.56 L1203.08 1543.18 L1210.71 1543.18 L1210.71 1547.12 L1190.81 1547.12 L1190.81 1543.18 Z\" fill=\"#000000\" fill-rule=\"evenodd\" fill-opacity=\"1\" /><path clip-path=\"url(#clip680)\" d=\"M 0 0 M1215.83 1512.56 L1234.19 1512.56 L1234.19 1516.5 L1220.11 1516.5 L1220.11 1524.97 Q1221.13 1524.62 1222.15 1524.46 Q1223.17 1524.27 1224.19 1524.27 Q1229.97 1524.27 1233.35 1527.44 Q1236.73 1530.62 1236.73 1536.03 Q1236.73 1541.61 1233.26 1544.71 Q1229.79 1547.79 1223.47 1547.79 Q1221.29 1547.79 1219.02 1547.42 Q1216.78 1547.05 1214.37 1546.31 L1214.37 1541.61 Q1216.46 1542.74 1218.68 1543.3 Q1220.9 1543.86 1223.38 1543.86 Q1227.38 1543.86 1229.72 1541.75 Q1232.06 1539.64 1232.06 1536.03 Q1232.06 1532.42 1229.72 1530.31 Q1227.38 1528.21 1223.38 1528.21 Q1221.5 1528.21 1219.63 1528.62 Q1217.77 1529.04 1215.83 1529.92 L1215.83 1512.56 Z\" fill=\"#000000\" fill-rule=\"evenodd\" fill-opacity=\"1\" /><path clip-path=\"url(#clip680)\" d=\"M 0 0 M1553.53 1543.18 L1569.85 1543.18 L1569.85 1547.12 L1547.91 1547.12 L1547.91 1543.18 Q1550.57 1540.43 1555.16 1535.8 Q1559.76 1531.15 1560.94 1529.81 Q1563.19 1527.28 1564.07 1525.55 Q1564.97 1523.79 1564.97 1522.1 Q1564.97 1519.34 1563.03 1517.61 Q1561.1 1515.87 1558 1515.87 Q1555.8 1515.87 1553.35 1516.63 Q1550.92 1517.4 1548.14 1518.95 L1548.14 1514.23 Q1550.97 1513.09 1553.42 1512.51 Q1555.87 1511.93 1557.91 1511.93 Q1563.28 1511.93 1566.47 1514.62 Q1569.67 1517.31 1569.67 1521.8 Q1569.67 1523.93 1568.86 1525.85 Q1568.07 1527.74 1565.97 1530.34 Q1565.39 1531.01 1562.28 1534.23 Q1559.18 1537.42 1553.53 1543.18 Z\" fill=\"#000000\" fill-rule=\"evenodd\" fill-opacity=\"1\" /><path clip-path=\"url(#clip680)\" d=\"M 0 0 M1584.92 1515.64 Q1581.31 1515.64 1579.48 1519.2 Q1577.68 1522.75 1577.68 1529.87 Q1577.68 1536.98 1579.48 1540.55 Q1581.31 1544.09 1584.92 1544.09 Q1588.56 1544.09 1590.36 1540.55 Q1592.19 1536.98 1592.19 1529.87 Q1592.19 1522.75 1590.36 1519.2 Q1588.56 1515.64 1584.92 1515.64 M1584.92 1511.93 Q1590.73 1511.93 1593.79 1516.54 Q1596.87 1521.12 1596.87 1529.87 Q1596.87 1538.6 1593.79 1543.21 Q1590.73 1547.79 1584.92 1547.79 Q1579.11 1547.79 1576.03 1543.21 Q1572.98 1538.6 1572.98 1529.87 Q1572.98 1521.12 1576.03 1516.54 Q1579.11 1511.93 1584.92 1511.93 Z\" fill=\"#000000\" fill-rule=\"evenodd\" fill-opacity=\"1\" /><path clip-path=\"url(#clip680)\" d=\"M 0 0 M1912.99 1543.18 L1929.31 1543.18 L1929.31 1547.12 L1907.36 1547.12 L1907.36 1543.18 Q1910.02 1540.43 1914.61 1535.8 Q1919.21 1531.15 1920.39 1529.81 Q1922.64 1527.28 1923.52 1525.55 Q1924.42 1523.79 1924.42 1522.1 Q1924.42 1519.34 1922.48 1517.61 Q1920.56 1515.87 1917.45 1515.87 Q1915.26 1515.87 1912.8 1516.63 Q1910.37 1517.4 1907.59 1518.95 L1907.59 1514.23 Q1910.42 1513.09 1912.87 1512.51 Q1915.32 1511.93 1917.36 1511.93 Q1922.73 1511.93 1925.93 1514.62 Q1929.12 1517.31 1929.12 1521.8 Q1929.12 1523.93 1928.31 1525.85 Q1927.52 1527.74 1925.42 1530.34 Q1924.84 1531.01 1921.74 1534.23 Q1918.64 1537.42 1912.99 1543.18 Z\" fill=\"#000000\" fill-rule=\"evenodd\" fill-opacity=\"1\" /><path clip-path=\"url(#clip680)\" d=\"M 0 0 M1934.42 1512.56 L1952.78 1512.56 L1952.78 1516.5 L1938.7 1516.5 L1938.7 1524.97 Q1939.72 1524.62 1940.74 1524.46 Q1941.76 1524.27 1942.78 1524.27 Q1948.57 1524.27 1951.95 1527.44 Q1955.32 1530.62 1955.32 1536.03 Q1955.32 1541.61 1951.85 1544.71 Q1948.38 1547.79 1942.06 1547.79 Q1939.88 1547.79 1937.62 1547.42 Q1935.37 1547.05 1932.96 1546.31 L1932.96 1541.61 Q1935.05 1542.74 1937.27 1543.3 Q1939.49 1543.86 1941.97 1543.86 Q1945.97 1543.86 1948.31 1541.75 Q1950.65 1539.64 1950.65 1536.03 Q1950.65 1532.42 1948.31 1530.31 Q1945.97 1528.21 1941.97 1528.21 Q1940.09 1528.21 1938.22 1528.62 Q1936.37 1529.04 1934.42 1529.92 L1934.42 1512.56 Z\" fill=\"#000000\" fill-rule=\"evenodd\" fill-opacity=\"1\" /><path clip-path=\"url(#clip680)\" d=\"M 0 0 M2281.04 1528.49 Q2284.4 1529.2 2286.27 1531.47 Q2288.17 1533.74 2288.17 1537.07 Q2288.17 1542.19 2284.65 1544.99 Q2281.13 1547.79 2274.65 1547.79 Q2272.47 1547.79 2270.16 1547.35 Q2267.87 1546.93 2265.41 1546.08 L2265.41 1541.56 Q2267.36 1542.7 2269.67 1543.28 Q2271.99 1543.86 2274.51 1543.86 Q2278.91 1543.86 2281.2 1542.12 Q2283.52 1540.38 2283.52 1537.07 Q2283.52 1534.02 2281.36 1532.31 Q2279.23 1530.57 2275.41 1530.57 L2271.39 1530.57 L2271.39 1526.73 L2275.6 1526.73 Q2279.05 1526.73 2280.88 1525.36 Q2282.71 1523.97 2282.71 1521.38 Q2282.71 1518.72 2280.81 1517.31 Q2278.93 1515.87 2275.41 1515.87 Q2273.49 1515.87 2271.29 1516.29 Q2269.09 1516.7 2266.46 1517.58 L2266.46 1513.42 Q2269.12 1512.68 2271.43 1512.31 Q2273.77 1511.93 2275.83 1511.93 Q2281.15 1511.93 2284.26 1514.37 Q2287.36 1516.77 2287.36 1520.89 Q2287.36 1523.76 2285.71 1525.75 Q2284.07 1527.72 2281.04 1528.49 Z\" fill=\"#000000\" fill-rule=\"evenodd\" fill-opacity=\"1\" /><path clip-path=\"url(#clip680)\" d=\"M 0 0 M2303.24 1515.64 Q2299.63 1515.64 2297.8 1519.2 Q2295.99 1522.75 2295.99 1529.87 Q2295.99 1536.98 2297.8 1540.55 Q2299.63 1544.09 2303.24 1544.09 Q2306.87 1544.09 2308.68 1540.55 Q2310.51 1536.98 2310.51 1529.87 Q2310.51 1522.75 2308.68 1519.2 Q2306.87 1515.64 2303.24 1515.64 M2303.24 1511.93 Q2309.05 1511.93 2312.1 1516.54 Q2315.18 1521.12 2315.18 1529.87 Q2315.18 1538.6 2312.1 1543.21 Q2309.05 1547.79 2303.24 1547.79 Q2297.43 1547.79 2294.35 1543.21 Q2291.29 1538.6 2291.29 1529.87 Q2291.29 1521.12 2294.35 1516.54 Q2297.43 1511.93 2303.24 1511.93 Z\" fill=\"#000000\" fill-rule=\"evenodd\" fill-opacity=\"1\" /><polyline clip-path=\"url(#clip682)\" style=\"stroke:#000000; stroke-width:2; stroke-opacity:0.1; fill:none\" points=\"\n",
       "  145.904,1380.37 2352.76,1380.37 \n",
       "  \"/>\n",
       "<polyline clip-path=\"url(#clip682)\" style=\"stroke:#000000; stroke-width:2; stroke-opacity:0.1; fill:none\" points=\"\n",
       "  145.904,1156.61 2352.76,1156.61 \n",
       "  \"/>\n",
       "<polyline clip-path=\"url(#clip682)\" style=\"stroke:#000000; stroke-width:2; stroke-opacity:0.1; fill:none\" points=\"\n",
       "  145.904,932.855 2352.76,932.855 \n",
       "  \"/>\n",
       "<polyline clip-path=\"url(#clip682)\" style=\"stroke:#000000; stroke-width:2; stroke-opacity:0.1; fill:none\" points=\"\n",
       "  145.904,709.097 2352.76,709.097 \n",
       "  \"/>\n",
       "<polyline clip-path=\"url(#clip682)\" style=\"stroke:#000000; stroke-width:2; stroke-opacity:0.1; fill:none\" points=\"\n",
       "  145.904,485.339 2352.76,485.339 \n",
       "  \"/>\n",
       "<polyline clip-path=\"url(#clip682)\" style=\"stroke:#000000; stroke-width:2; stroke-opacity:0.1; fill:none\" points=\"\n",
       "  145.904,261.581 2352.76,261.581 \n",
       "  \"/>\n",
       "<polyline clip-path=\"url(#clip680)\" style=\"stroke:#000000; stroke-width:4; stroke-opacity:1; fill:none\" points=\"\n",
       "  145.904,1486.45 145.904,47.2441 \n",
       "  \"/>\n",
       "<polyline clip-path=\"url(#clip680)\" style=\"stroke:#000000; stroke-width:4; stroke-opacity:1; fill:none\" points=\"\n",
       "  145.904,1380.37 172.386,1380.37 \n",
       "  \"/>\n",
       "<polyline clip-path=\"url(#clip680)\" style=\"stroke:#000000; stroke-width:4; stroke-opacity:1; fill:none\" points=\"\n",
       "  145.904,1156.61 172.386,1156.61 \n",
       "  \"/>\n",
       "<polyline clip-path=\"url(#clip680)\" style=\"stroke:#000000; stroke-width:4; stroke-opacity:1; fill:none\" points=\"\n",
       "  145.904,932.855 172.386,932.855 \n",
       "  \"/>\n",
       "<polyline clip-path=\"url(#clip680)\" style=\"stroke:#000000; stroke-width:4; stroke-opacity:1; fill:none\" points=\"\n",
       "  145.904,709.097 172.386,709.097 \n",
       "  \"/>\n",
       "<polyline clip-path=\"url(#clip680)\" style=\"stroke:#000000; stroke-width:4; stroke-opacity:1; fill:none\" points=\"\n",
       "  145.904,485.339 172.386,485.339 \n",
       "  \"/>\n",
       "<polyline clip-path=\"url(#clip680)\" style=\"stroke:#000000; stroke-width:4; stroke-opacity:1; fill:none\" points=\"\n",
       "  145.904,261.581 172.386,261.581 \n",
       "  \"/>\n",
       "<path clip-path=\"url(#clip680)\" d=\"M 0 0 M52.8671 1393.72 L60.506 1393.72 L60.506 1367.35 L52.1958 1369.02 L52.1958 1364.76 L60.4597 1363.09 L65.1356 1363.09 L65.1356 1393.72 L72.7744 1393.72 L72.7744 1397.65 L52.8671 1397.65 L52.8671 1393.72 Z\" fill=\"#000000\" fill-rule=\"evenodd\" fill-opacity=\"1\" /><path clip-path=\"url(#clip680)\" d=\"M 0 0 M77.8438 1391.77 L82.7281 1391.77 L82.7281 1397.65 L77.8438 1397.65 L77.8438 1391.77 Z\" fill=\"#000000\" fill-rule=\"evenodd\" fill-opacity=\"1\" /><path clip-path=\"url(#clip680)\" d=\"M 0 0 M98.3761 1378.51 Q95.228 1378.51 93.3762 1380.66 Q91.5475 1382.81 91.5475 1386.56 Q91.5475 1390.29 93.3762 1392.47 Q95.228 1394.62 98.3761 1394.62 Q101.524 1394.62 103.353 1392.47 Q105.205 1390.29 105.205 1386.56 Q105.205 1382.81 103.353 1380.66 Q101.524 1378.51 98.3761 1378.51 M107.658 1363.85 L107.658 1368.11 Q105.899 1367.28 104.094 1366.84 Q102.311 1366.4 100.552 1366.4 Q95.9224 1366.4 93.4688 1369.53 Q91.0382 1372.65 90.691 1378.97 Q92.0567 1376.96 94.1169 1375.89 Q96.1771 1374.8 98.6539 1374.8 Q103.862 1374.8 106.871 1377.97 Q109.904 1381.12 109.904 1386.56 Q109.904 1391.89 106.756 1395.1 Q103.608 1398.32 98.3761 1398.32 Q92.3808 1398.32 89.2095 1393.74 Q86.0382 1389.13 86.0382 1380.4 Q86.0382 1372.21 89.9271 1367.35 Q93.816 1362.47 100.367 1362.47 Q102.126 1362.47 103.909 1362.81 Q105.714 1363.16 107.658 1363.85 Z\" fill=\"#000000\" fill-rule=\"evenodd\" fill-opacity=\"1\" /><path clip-path=\"url(#clip680)\" d=\"M 0 0 M53.9319 1169.96 L61.5708 1169.96 L61.5708 1143.59 L53.2606 1145.26 L53.2606 1141 L61.5245 1139.33 L66.2004 1139.33 L66.2004 1169.96 L73.8392 1169.96 L73.8392 1173.89 L53.9319 1173.89 L53.9319 1169.96 Z\" fill=\"#000000\" fill-rule=\"evenodd\" fill-opacity=\"1\" /><path clip-path=\"url(#clip680)\" d=\"M 0 0 M78.9086 1168.01 L83.7929 1168.01 L83.7929 1173.89 L78.9086 1173.89 L78.9086 1168.01 Z\" fill=\"#000000\" fill-rule=\"evenodd\" fill-opacity=\"1\" /><path clip-path=\"url(#clip680)\" d=\"M 0 0 M87.6817 1139.33 L109.904 1139.33 L109.904 1141.32 L97.3576 1173.89 L92.4734 1173.89 L104.279 1143.27 L87.6817 1143.27 L87.6817 1139.33 Z\" fill=\"#000000\" fill-rule=\"evenodd\" fill-opacity=\"1\" /><path clip-path=\"url(#clip680)\" d=\"M 0 0 M53.1217 946.199 L60.7606 946.199 L60.7606 919.834 L52.4505 921.5 L52.4505 917.241 L60.7143 915.575 L65.3902 915.575 L65.3902 946.199 L73.029 946.199 L73.029 950.135 L53.1217 950.135 L53.1217 946.199 Z\" fill=\"#000000\" fill-rule=\"evenodd\" fill-opacity=\"1\" /><path clip-path=\"url(#clip680)\" d=\"M 0 0 M78.0985 944.255 L82.9827 944.255 L82.9827 950.135 L78.0985 950.135 L78.0985 944.255 Z\" fill=\"#000000\" fill-rule=\"evenodd\" fill-opacity=\"1\" /><path clip-path=\"url(#clip680)\" d=\"M 0 0 M98.0521 933.723 Q94.7187 933.723 92.7975 935.505 Q90.8993 937.287 90.8993 940.412 Q90.8993 943.537 92.7975 945.32 Q94.7187 947.102 98.0521 947.102 Q101.385 947.102 103.307 945.32 Q105.228 943.514 105.228 940.412 Q105.228 937.287 103.307 935.505 Q101.409 933.723 98.0521 933.723 M93.3762 931.732 Q90.3669 930.991 88.6771 928.931 Q87.0105 926.871 87.0105 923.908 Q87.0105 919.764 89.9503 917.357 Q92.9132 914.95 98.0521 914.95 Q103.214 914.95 106.154 917.357 Q109.094 919.764 109.094 923.908 Q109.094 926.871 107.404 928.931 Q105.737 930.991 102.751 931.732 Q106.131 932.519 108.006 934.811 Q109.904 937.102 109.904 940.412 Q109.904 945.436 106.825 948.121 Q103.77 950.806 98.0521 950.806 Q92.3345 950.806 89.2558 948.121 Q86.2003 945.436 86.2003 940.412 Q86.2003 937.102 88.0984 934.811 Q89.9965 932.519 93.3762 931.732 M91.6632 924.348 Q91.6632 927.033 93.3299 928.537 Q95.0197 930.042 98.0521 930.042 Q101.061 930.042 102.751 928.537 Q104.464 927.033 104.464 924.348 Q104.464 921.663 102.751 920.158 Q101.061 918.653 98.0521 918.653 Q95.0197 918.653 93.3299 920.158 Q91.6632 921.663 91.6632 924.348 Z\" fill=\"#000000\" fill-rule=\"evenodd\" fill-opacity=\"1\" /><path clip-path=\"url(#clip680)\" d=\"M 0 0 M53.2143 722.442 L60.8532 722.442 L60.8532 696.076 L52.543 697.743 L52.543 693.483 L60.8069 691.817 L65.4828 691.817 L65.4828 722.442 L73.1216 722.442 L73.1216 726.377 L53.2143 726.377 L53.2143 722.442 Z\" fill=\"#000000\" fill-rule=\"evenodd\" fill-opacity=\"1\" /><path clip-path=\"url(#clip680)\" d=\"M 0 0 M78.1911 720.497 L83.0753 720.497 L83.0753 726.377 L78.1911 726.377 L78.1911 720.497 Z\" fill=\"#000000\" fill-rule=\"evenodd\" fill-opacity=\"1\" /><path clip-path=\"url(#clip680)\" d=\"M 0 0 M88.2836 725.659 L88.2836 721.4 Q90.0428 722.233 91.8484 722.673 Q93.6539 723.113 95.39 723.113 Q100.02 723.113 102.45 720.011 Q104.904 716.886 105.251 710.544 Q103.909 712.534 101.848 713.599 Q99.7882 714.664 97.2882 714.664 Q92.103 714.664 89.0706 711.539 Q86.0614 708.391 86.0614 702.951 Q86.0614 697.627 89.2095 694.409 Q92.3576 691.192 97.5891 691.192 Q103.584 691.192 106.733 695.798 Q109.904 700.382 109.904 709.132 Q109.904 717.303 106.015 722.187 Q102.149 727.048 95.5984 727.048 Q93.8391 727.048 92.0336 726.701 Q90.228 726.354 88.2836 725.659 M97.5891 711.007 Q100.737 711.007 102.566 708.854 Q104.418 706.701 104.418 702.951 Q104.418 699.224 102.566 697.071 Q100.737 694.895 97.5891 694.895 Q94.441 694.895 92.5891 697.071 Q90.7604 699.224 90.7604 702.951 Q90.7604 706.701 92.5891 708.854 Q94.441 711.007 97.5891 711.007 Z\" fill=\"#000000\" fill-rule=\"evenodd\" fill-opacity=\"1\" /><path clip-path=\"url(#clip680)\" d=\"M 0 0 M56.6171 498.684 L72.9365 498.684 L72.9365 502.619 L50.9921 502.619 L50.9921 498.684 Q53.6541 495.929 58.2375 491.3 Q62.8439 486.647 64.0245 485.304 Q66.2698 482.781 67.1494 481.045 Q68.0522 479.286 68.0522 477.596 Q68.0522 474.841 66.1078 473.105 Q64.1865 471.369 61.0847 471.369 Q58.8856 471.369 56.4319 472.133 Q54.0014 472.897 51.2236 474.448 L51.2236 469.726 Q54.0477 468.591 56.5014 468.013 Q58.955 467.434 60.9921 467.434 Q66.3624 467.434 69.5568 470.119 Q72.7513 472.804 72.7513 477.295 Q72.7513 479.425 71.9411 481.346 Q71.1541 483.244 69.0476 485.837 Q68.4689 486.508 65.367 489.726 Q62.2652 492.92 56.6171 498.684 Z\" fill=\"#000000\" fill-rule=\"evenodd\" fill-opacity=\"1\" /><path clip-path=\"url(#clip680)\" d=\"M 0 0 M78.0059 496.739 L82.8901 496.739 L82.8901 502.619 L78.0059 502.619 L78.0059 496.739 Z\" fill=\"#000000\" fill-rule=\"evenodd\" fill-opacity=\"1\" /><path clip-path=\"url(#clip680)\" d=\"M 0 0 M97.9595 471.138 Q94.3484 471.138 92.5197 474.702 Q90.7141 478.244 90.7141 485.374 Q90.7141 492.48 92.5197 496.045 Q94.3484 499.587 97.9595 499.587 Q101.594 499.587 103.399 496.045 Q105.228 492.48 105.228 485.374 Q105.228 478.244 103.399 474.702 Q101.594 471.138 97.9595 471.138 M97.9595 467.434 Q103.77 467.434 106.825 472.04 Q109.904 476.624 109.904 485.374 Q109.904 494.101 106.825 498.707 Q103.77 503.29 97.9595 503.29 Q92.1493 503.29 89.0706 498.707 Q86.0151 494.101 86.0151 485.374 Q86.0151 476.624 89.0706 472.04 Q92.1493 467.434 97.9595 467.434 Z\" fill=\"#000000\" fill-rule=\"evenodd\" fill-opacity=\"1\" /><path clip-path=\"url(#clip680)\" d=\"M 0 0 M57.8439 274.926 L74.1633 274.926 L74.1633 278.861 L52.219 278.861 L52.219 274.926 Q54.881 272.171 59.4643 267.542 Q64.0708 262.889 65.2513 261.546 Q67.4967 259.023 68.3763 257.287 Q69.2791 255.528 69.2791 253.838 Q69.2791 251.084 67.3346 249.347 Q65.4133 247.611 62.3115 247.611 Q60.1124 247.611 57.6588 248.375 Q55.2282 249.139 52.4505 250.69 L52.4505 245.968 Q55.2745 244.834 57.7282 244.255 Q60.1819 243.676 62.2189 243.676 Q67.5893 243.676 70.7837 246.361 Q73.9781 249.047 73.9781 253.537 Q73.9781 255.667 73.1679 257.588 Q72.3809 259.486 70.2744 262.079 Q69.6957 262.75 66.5939 265.968 Q63.4921 269.162 57.8439 274.926 Z\" fill=\"#000000\" fill-rule=\"evenodd\" fill-opacity=\"1\" /><path clip-path=\"url(#clip680)\" d=\"M 0 0 M79.2327 272.982 L84.1169 272.982 L84.1169 278.861 L79.2327 278.861 L79.2327 272.982 Z\" fill=\"#000000\" fill-rule=\"evenodd\" fill-opacity=\"1\" /><path clip-path=\"url(#clip680)\" d=\"M 0 0 M89.9965 274.926 L97.6354 274.926 L97.6354 248.56 L89.3253 250.227 L89.3253 245.968 L97.5891 244.301 L102.265 244.301 L102.265 274.926 L109.904 274.926 L109.904 278.861 L89.9965 278.861 L89.9965 274.926 Z\" fill=\"#000000\" fill-rule=\"evenodd\" fill-opacity=\"1\" /><circle clip-path=\"url(#clip682)\" cx=\"208.362\" cy=\"87.9763\" r=\"14\" fill=\"#009af9\" fill-rule=\"evenodd\" fill-opacity=\"1\" stroke=\"#000000\" stroke-opacity=\"1\" stroke-width=\"3.2\"/>\n",
       "<circle clip-path=\"url(#clip682)\" cx=\"280.153\" cy=\"87.9763\" r=\"14\" fill=\"#009af9\" fill-rule=\"evenodd\" fill-opacity=\"1\" stroke=\"#000000\" stroke-opacity=\"1\" stroke-width=\"3.2\"/>\n",
       "<circle clip-path=\"url(#clip682)\" cx=\"351.944\" cy=\"87.9763\" r=\"14\" fill=\"#009af9\" fill-rule=\"evenodd\" fill-opacity=\"1\" stroke=\"#000000\" stroke-opacity=\"1\" stroke-width=\"3.2\"/>\n",
       "<circle clip-path=\"url(#clip682)\" cx=\"423.735\" cy=\"87.9763\" r=\"14\" fill=\"#009af9\" fill-rule=\"evenodd\" fill-opacity=\"1\" stroke=\"#000000\" stroke-opacity=\"1\" stroke-width=\"3.2\"/>\n",
       "<circle clip-path=\"url(#clip682)\" cx=\"495.525\" cy=\"87.9763\" r=\"14\" fill=\"#009af9\" fill-rule=\"evenodd\" fill-opacity=\"1\" stroke=\"#000000\" stroke-opacity=\"1\" stroke-width=\"3.2\"/>\n",
       "<circle clip-path=\"url(#clip682)\" cx=\"567.316\" cy=\"87.9763\" r=\"14\" fill=\"#009af9\" fill-rule=\"evenodd\" fill-opacity=\"1\" stroke=\"#000000\" stroke-opacity=\"1\" stroke-width=\"3.2\"/>\n",
       "<circle clip-path=\"url(#clip682)\" cx=\"639.107\" cy=\"87.9763\" r=\"14\" fill=\"#009af9\" fill-rule=\"evenodd\" fill-opacity=\"1\" stroke=\"#000000\" stroke-opacity=\"1\" stroke-width=\"3.2\"/>\n",
       "<circle clip-path=\"url(#clip682)\" cx=\"710.898\" cy=\"87.9763\" r=\"14\" fill=\"#009af9\" fill-rule=\"evenodd\" fill-opacity=\"1\" stroke=\"#000000\" stroke-opacity=\"1\" stroke-width=\"3.2\"/>\n",
       "<circle clip-path=\"url(#clip682)\" cx=\"782.689\" cy=\"87.9763\" r=\"14\" fill=\"#009af9\" fill-rule=\"evenodd\" fill-opacity=\"1\" stroke=\"#000000\" stroke-opacity=\"1\" stroke-width=\"3.2\"/>\n",
       "<circle clip-path=\"url(#clip682)\" cx=\"854.48\" cy=\"87.9763\" r=\"14\" fill=\"#009af9\" fill-rule=\"evenodd\" fill-opacity=\"1\" stroke=\"#000000\" stroke-opacity=\"1\" stroke-width=\"3.2\"/>\n",
       "<circle clip-path=\"url(#clip682)\" cx=\"926.271\" cy=\"87.9763\" r=\"14\" fill=\"#009af9\" fill-rule=\"evenodd\" fill-opacity=\"1\" stroke=\"#000000\" stroke-opacity=\"1\" stroke-width=\"3.2\"/>\n",
       "<circle clip-path=\"url(#clip682)\" cx=\"998.062\" cy=\"87.9763\" r=\"14\" fill=\"#009af9\" fill-rule=\"evenodd\" fill-opacity=\"1\" stroke=\"#000000\" stroke-opacity=\"1\" stroke-width=\"3.2\"/>\n",
       "<circle clip-path=\"url(#clip682)\" cx=\"1069.85\" cy=\"87.9763\" r=\"14\" fill=\"#009af9\" fill-rule=\"evenodd\" fill-opacity=\"1\" stroke=\"#000000\" stroke-opacity=\"1\" stroke-width=\"3.2\"/>\n",
       "<circle clip-path=\"url(#clip682)\" cx=\"1141.64\" cy=\"87.9763\" r=\"14\" fill=\"#009af9\" fill-rule=\"evenodd\" fill-opacity=\"1\" stroke=\"#000000\" stroke-opacity=\"1\" stroke-width=\"3.2\"/>\n",
       "<circle clip-path=\"url(#clip682)\" cx=\"1213.43\" cy=\"87.9763\" r=\"14\" fill=\"#009af9\" fill-rule=\"evenodd\" fill-opacity=\"1\" stroke=\"#000000\" stroke-opacity=\"1\" stroke-width=\"3.2\"/>\n",
       "<circle clip-path=\"url(#clip682)\" cx=\"1285.23\" cy=\"87.9763\" r=\"14\" fill=\"#009af9\" fill-rule=\"evenodd\" fill-opacity=\"1\" stroke=\"#000000\" stroke-opacity=\"1\" stroke-width=\"3.2\"/>\n",
       "<circle clip-path=\"url(#clip682)\" cx=\"1357.02\" cy=\"87.9763\" r=\"14\" fill=\"#009af9\" fill-rule=\"evenodd\" fill-opacity=\"1\" stroke=\"#000000\" stroke-opacity=\"1\" stroke-width=\"3.2\"/>\n",
       "<circle clip-path=\"url(#clip682)\" cx=\"1428.81\" cy=\"87.9763\" r=\"14\" fill=\"#009af9\" fill-rule=\"evenodd\" fill-opacity=\"1\" stroke=\"#000000\" stroke-opacity=\"1\" stroke-width=\"3.2\"/>\n",
       "<circle clip-path=\"url(#clip682)\" cx=\"1500.6\" cy=\"87.9763\" r=\"14\" fill=\"#009af9\" fill-rule=\"evenodd\" fill-opacity=\"1\" stroke=\"#000000\" stroke-opacity=\"1\" stroke-width=\"3.2\"/>\n",
       "<circle clip-path=\"url(#clip682)\" cx=\"1572.39\" cy=\"87.9763\" r=\"14\" fill=\"#009af9\" fill-rule=\"evenodd\" fill-opacity=\"1\" stroke=\"#000000\" stroke-opacity=\"1\" stroke-width=\"3.2\"/>\n",
       "<circle clip-path=\"url(#clip682)\" cx=\"1644.18\" cy=\"87.9763\" r=\"14\" fill=\"#009af9\" fill-rule=\"evenodd\" fill-opacity=\"1\" stroke=\"#000000\" stroke-opacity=\"1\" stroke-width=\"3.2\"/>\n",
       "<circle clip-path=\"url(#clip682)\" cx=\"1715.97\" cy=\"87.9763\" r=\"14\" fill=\"#009af9\" fill-rule=\"evenodd\" fill-opacity=\"1\" stroke=\"#000000\" stroke-opacity=\"1\" stroke-width=\"3.2\"/>\n",
       "<circle clip-path=\"url(#clip682)\" cx=\"1787.76\" cy=\"87.9763\" r=\"14\" fill=\"#009af9\" fill-rule=\"evenodd\" fill-opacity=\"1\" stroke=\"#000000\" stroke-opacity=\"1\" stroke-width=\"3.2\"/>\n",
       "<circle clip-path=\"url(#clip682)\" cx=\"1859.55\" cy=\"87.9763\" r=\"14\" fill=\"#009af9\" fill-rule=\"evenodd\" fill-opacity=\"1\" stroke=\"#000000\" stroke-opacity=\"1\" stroke-width=\"3.2\"/>\n",
       "<circle clip-path=\"url(#clip682)\" cx=\"1931.34\" cy=\"87.9763\" r=\"14\" fill=\"#009af9\" fill-rule=\"evenodd\" fill-opacity=\"1\" stroke=\"#000000\" stroke-opacity=\"1\" stroke-width=\"3.2\"/>\n",
       "<circle clip-path=\"url(#clip682)\" cx=\"2003.13\" cy=\"87.9763\" r=\"14\" fill=\"#009af9\" fill-rule=\"evenodd\" fill-opacity=\"1\" stroke=\"#000000\" stroke-opacity=\"1\" stroke-width=\"3.2\"/>\n",
       "<circle clip-path=\"url(#clip682)\" cx=\"2074.93\" cy=\"87.9763\" r=\"14\" fill=\"#009af9\" fill-rule=\"evenodd\" fill-opacity=\"1\" stroke=\"#000000\" stroke-opacity=\"1\" stroke-width=\"3.2\"/>\n",
       "<circle clip-path=\"url(#clip682)\" cx=\"2146.72\" cy=\"87.9763\" r=\"14\" fill=\"#009af9\" fill-rule=\"evenodd\" fill-opacity=\"1\" stroke=\"#000000\" stroke-opacity=\"1\" stroke-width=\"3.2\"/>\n",
       "<circle clip-path=\"url(#clip682)\" cx=\"2218.51\" cy=\"87.9763\" r=\"14\" fill=\"#009af9\" fill-rule=\"evenodd\" fill-opacity=\"1\" stroke=\"#000000\" stroke-opacity=\"1\" stroke-width=\"3.2\"/>\n",
       "<circle clip-path=\"url(#clip682)\" cx=\"2290.3\" cy=\"87.9763\" r=\"14\" fill=\"#009af9\" fill-rule=\"evenodd\" fill-opacity=\"1\" stroke=\"#000000\" stroke-opacity=\"1\" stroke-width=\"3.2\"/>\n",
       "<circle clip-path=\"url(#clip682)\" cx=\"208.362\" cy=\"1445.72\" r=\"14\" fill=\"#e26f46\" fill-rule=\"evenodd\" fill-opacity=\"1\" stroke=\"#000000\" stroke-opacity=\"1\" stroke-width=\"3.2\"/>\n",
       "<circle clip-path=\"url(#clip682)\" cx=\"280.153\" cy=\"624.31\" r=\"14\" fill=\"#e26f46\" fill-rule=\"evenodd\" fill-opacity=\"1\" stroke=\"#000000\" stroke-opacity=\"1\" stroke-width=\"3.2\"/>\n",
       "<circle clip-path=\"url(#clip682)\" cx=\"351.944\" cy=\"362.78\" r=\"14\" fill=\"#e26f46\" fill-rule=\"evenodd\" fill-opacity=\"1\" stroke=\"#000000\" stroke-opacity=\"1\" stroke-width=\"3.2\"/>\n",
       "<circle clip-path=\"url(#clip682)\" cx=\"423.735\" cy=\"252.324\" r=\"14\" fill=\"#e26f46\" fill-rule=\"evenodd\" fill-opacity=\"1\" stroke=\"#000000\" stroke-opacity=\"1\" stroke-width=\"3.2\"/>\n",
       "<circle clip-path=\"url(#clip682)\" cx=\"495.525\" cy=\"196.528\" r=\"14\" fill=\"#e26f46\" fill-rule=\"evenodd\" fill-opacity=\"1\" stroke=\"#000000\" stroke-opacity=\"1\" stroke-width=\"3.2\"/>\n",
       "<circle clip-path=\"url(#clip682)\" cx=\"567.316\" cy=\"164.745\" r=\"14\" fill=\"#e26f46\" fill-rule=\"evenodd\" fill-opacity=\"1\" stroke=\"#000000\" stroke-opacity=\"1\" stroke-width=\"3.2\"/>\n",
       "<circle clip-path=\"url(#clip682)\" cx=\"639.107\" cy=\"145.024\" r=\"14\" fill=\"#e26f46\" fill-rule=\"evenodd\" fill-opacity=\"1\" stroke=\"#000000\" stroke-opacity=\"1\" stroke-width=\"3.2\"/>\n",
       "<circle clip-path=\"url(#clip682)\" cx=\"710.898\" cy=\"131.987\" r=\"14\" fill=\"#e26f46\" fill-rule=\"evenodd\" fill-opacity=\"1\" stroke=\"#000000\" stroke-opacity=\"1\" stroke-width=\"3.2\"/>\n",
       "<circle clip-path=\"url(#clip682)\" cx=\"782.689\" cy=\"122.934\" r=\"14\" fill=\"#e26f46\" fill-rule=\"evenodd\" fill-opacity=\"1\" stroke=\"#000000\" stroke-opacity=\"1\" stroke-width=\"3.2\"/>\n",
       "<circle clip-path=\"url(#clip682)\" cx=\"854.48\" cy=\"116.401\" r=\"14\" fill=\"#e26f46\" fill-rule=\"evenodd\" fill-opacity=\"1\" stroke=\"#000000\" stroke-opacity=\"1\" stroke-width=\"3.2\"/>\n",
       "<circle clip-path=\"url(#clip682)\" cx=\"926.271\" cy=\"111.535\" r=\"14\" fill=\"#e26f46\" fill-rule=\"evenodd\" fill-opacity=\"1\" stroke=\"#000000\" stroke-opacity=\"1\" stroke-width=\"3.2\"/>\n",
       "<circle clip-path=\"url(#clip682)\" cx=\"998.062\" cy=\"107.816\" r=\"14\" fill=\"#e26f46\" fill-rule=\"evenodd\" fill-opacity=\"1\" stroke=\"#000000\" stroke-opacity=\"1\" stroke-width=\"3.2\"/>\n",
       "<circle clip-path=\"url(#clip682)\" cx=\"1069.85\" cy=\"104.91\" r=\"14\" fill=\"#e26f46\" fill-rule=\"evenodd\" fill-opacity=\"1\" stroke=\"#000000\" stroke-opacity=\"1\" stroke-width=\"3.2\"/>\n",
       "<circle clip-path=\"url(#clip682)\" cx=\"1141.64\" cy=\"102.597\" r=\"14\" fill=\"#e26f46\" fill-rule=\"evenodd\" fill-opacity=\"1\" stroke=\"#000000\" stroke-opacity=\"1\" stroke-width=\"3.2\"/>\n",
       "<circle clip-path=\"url(#clip682)\" cx=\"1213.43\" cy=\"100.727\" r=\"14\" fill=\"#e26f46\" fill-rule=\"evenodd\" fill-opacity=\"1\" stroke=\"#000000\" stroke-opacity=\"1\" stroke-width=\"3.2\"/>\n",
       "<circle clip-path=\"url(#clip682)\" cx=\"1285.23\" cy=\"99.1932\" r=\"14\" fill=\"#e26f46\" fill-rule=\"evenodd\" fill-opacity=\"1\" stroke=\"#000000\" stroke-opacity=\"1\" stroke-width=\"3.2\"/>\n",
       "<circle clip-path=\"url(#clip682)\" cx=\"1357.02\" cy=\"97.9199\" r=\"14\" fill=\"#e26f46\" fill-rule=\"evenodd\" fill-opacity=\"1\" stroke=\"#000000\" stroke-opacity=\"1\" stroke-width=\"3.2\"/>\n",
       "<circle clip-path=\"url(#clip682)\" cx=\"1428.81\" cy=\"96.8514\" r=\"14\" fill=\"#e26f46\" fill-rule=\"evenodd\" fill-opacity=\"1\" stroke=\"#000000\" stroke-opacity=\"1\" stroke-width=\"3.2\"/>\n",
       "<circle clip-path=\"url(#clip682)\" cx=\"1500.6\" cy=\"95.9461\" r=\"14\" fill=\"#e26f46\" fill-rule=\"evenodd\" fill-opacity=\"1\" stroke=\"#000000\" stroke-opacity=\"1\" stroke-width=\"3.2\"/>\n",
       "<circle clip-path=\"url(#clip682)\" cx=\"1572.39\" cy=\"95.1723\" r=\"14\" fill=\"#e26f46\" fill-rule=\"evenodd\" fill-opacity=\"1\" stroke=\"#000000\" stroke-opacity=\"1\" stroke-width=\"3.2\"/>\n",
       "<circle clip-path=\"url(#clip682)\" cx=\"1644.18\" cy=\"94.5059\" r=\"14\" fill=\"#e26f46\" fill-rule=\"evenodd\" fill-opacity=\"1\" stroke=\"#000000\" stroke-opacity=\"1\" stroke-width=\"3.2\"/>\n",
       "<circle clip-path=\"url(#clip682)\" cx=\"1715.97\" cy=\"93.9278\" r=\"14\" fill=\"#e26f46\" fill-rule=\"evenodd\" fill-opacity=\"1\" stroke=\"#000000\" stroke-opacity=\"1\" stroke-width=\"3.2\"/>\n",
       "<circle clip-path=\"url(#clip682)\" cx=\"1787.76\" cy=\"93.4232\" r=\"14\" fill=\"#e26f46\" fill-rule=\"evenodd\" fill-opacity=\"1\" stroke=\"#000000\" stroke-opacity=\"1\" stroke-width=\"3.2\"/>\n",
       "<circle clip-path=\"url(#clip682)\" cx=\"1859.55\" cy=\"92.9801\" r=\"14\" fill=\"#e26f46\" fill-rule=\"evenodd\" fill-opacity=\"1\" stroke=\"#000000\" stroke-opacity=\"1\" stroke-width=\"3.2\"/>\n",
       "<circle clip-path=\"url(#clip682)\" cx=\"1931.34\" cy=\"92.5888\" r=\"14\" fill=\"#e26f46\" fill-rule=\"evenodd\" fill-opacity=\"1\" stroke=\"#000000\" stroke-opacity=\"1\" stroke-width=\"3.2\"/>\n",
       "<circle clip-path=\"url(#clip682)\" cx=\"2003.13\" cy=\"92.2417\" r=\"14\" fill=\"#e26f46\" fill-rule=\"evenodd\" fill-opacity=\"1\" stroke=\"#000000\" stroke-opacity=\"1\" stroke-width=\"3.2\"/>\n",
       "<circle clip-path=\"url(#clip682)\" cx=\"2074.93\" cy=\"91.9323\" r=\"14\" fill=\"#e26f46\" fill-rule=\"evenodd\" fill-opacity=\"1\" stroke=\"#000000\" stroke-opacity=\"1\" stroke-width=\"3.2\"/>\n",
       "<circle clip-path=\"url(#clip682)\" cx=\"2146.72\" cy=\"91.6554\" r=\"14\" fill=\"#e26f46\" fill-rule=\"evenodd\" fill-opacity=\"1\" stroke=\"#000000\" stroke-opacity=\"1\" stroke-width=\"3.2\"/>\n",
       "<circle clip-path=\"url(#clip682)\" cx=\"2218.51\" cy=\"91.4066\" r=\"14\" fill=\"#e26f46\" fill-rule=\"evenodd\" fill-opacity=\"1\" stroke=\"#000000\" stroke-opacity=\"1\" stroke-width=\"3.2\"/>\n",
       "<circle clip-path=\"url(#clip682)\" cx=\"2290.3\" cy=\"91.1821\" r=\"14\" fill=\"#e26f46\" fill-rule=\"evenodd\" fill-opacity=\"1\" stroke=\"#000000\" stroke-opacity=\"1\" stroke-width=\"3.2\"/>\n",
       "<path clip-path=\"url(#clip680)\" d=\"\n",
       "M1797.62 276.658 L2279.19 276.658 L2279.19 95.2176 L1797.62 95.2176  Z\n",
       "  \" fill=\"#ffffff\" fill-rule=\"evenodd\" fill-opacity=\"1\"/>\n",
       "<polyline clip-path=\"url(#clip680)\" style=\"stroke:#000000; stroke-width:4; stroke-opacity:1; fill:none\" points=\"\n",
       "  1797.62,276.658 2279.19,276.658 2279.19,95.2176 1797.62,95.2176 1797.62,276.658 \n",
       "  \"/>\n",
       "<circle clip-path=\"url(#clip680)\" cx=\"1895.71\" cy=\"155.698\" r=\"23\" fill=\"#009af9\" fill-rule=\"evenodd\" fill-opacity=\"1\" stroke=\"#000000\" stroke-opacity=\"1\" stroke-width=\"5.12\"/>\n",
       "<path clip-path=\"url(#clip680)\" d=\"M 0 0 M2010.18 156.774 Q2011.68 157.283 2013.09 158.95 Q2014.53 160.617 2015.96 163.533 L2020.71 172.978 L2015.69 172.978 L2011.27 164.112 Q2009.55 160.64 2007.93 159.505 Q2006.33 158.371 2003.56 158.371 L1998.46 158.371 L1998.46 172.978 L1993.79 172.978 L1993.79 138.418 L2004.34 138.418 Q2010.27 138.418 2013.19 140.894 Q2016.1 143.371 2016.1 148.371 Q2016.1 151.635 2014.58 153.788 Q2013.07 155.941 2010.18 156.774 M1998.46 142.26 L1998.46 154.529 L2004.34 154.529 Q2007.72 154.529 2009.44 152.978 Q2011.17 151.404 2011.17 148.371 Q2011.17 145.339 2009.44 143.811 Q2007.72 142.26 2004.34 142.26 L1998.46 142.26 Z\" fill=\"#000000\" fill-rule=\"evenodd\" fill-opacity=\"1\" /><path clip-path=\"url(#clip680)\" d=\"M 0 0 M2045.22 158.95 L2045.22 161.033 L2025.64 161.033 Q2025.92 165.431 2028.28 167.746 Q2030.66 170.038 2034.9 170.038 Q2037.35 170.038 2039.64 169.436 Q2041.96 168.834 2044.23 167.63 L2044.23 171.658 Q2041.94 172.63 2039.53 173.14 Q2037.12 173.649 2034.64 173.649 Q2028.44 173.649 2024.81 170.038 Q2021.2 166.427 2021.2 160.269 Q2021.2 153.904 2024.62 150.177 Q2028.07 146.427 2033.9 146.427 Q2039.14 146.427 2042.17 149.806 Q2045.22 153.163 2045.22 158.95 M2040.96 157.7 Q2040.92 154.205 2039 152.121 Q2037.1 150.038 2033.95 150.038 Q2030.39 150.038 2028.23 152.052 Q2026.1 154.066 2025.78 157.723 L2040.96 157.7 Z\" fill=\"#000000\" fill-rule=\"evenodd\" fill-opacity=\"1\" /><path clip-path=\"url(#clip680)\" d=\"M 0 0 M2062.82 136.959 L2062.82 140.501 L2058.74 140.501 Q2056.45 140.501 2055.55 141.427 Q2054.67 142.353 2054.67 144.76 L2054.67 147.052 L2061.68 147.052 L2061.68 150.362 L2054.67 150.362 L2054.67 172.978 L2050.39 172.978 L2050.39 150.362 L2046.31 150.362 L2046.31 147.052 L2050.39 147.052 L2050.39 145.246 Q2050.39 140.918 2052.4 138.95 Q2054.41 136.959 2058.79 136.959 L2062.82 136.959 Z\" fill=\"#000000\" fill-rule=\"evenodd\" fill-opacity=\"1\" /><path clip-path=\"url(#clip680)\" d=\"M 0 0 M2089.46 158.95 L2089.46 161.033 L2069.88 161.033 Q2070.15 165.431 2072.51 167.746 Q2074.9 170.038 2079.14 170.038 Q2081.59 170.038 2083.88 169.436 Q2086.2 168.834 2088.46 167.63 L2088.46 171.658 Q2086.17 172.63 2083.76 173.14 Q2081.36 173.649 2078.88 173.649 Q2072.68 173.649 2069.04 170.038 Q2065.43 166.427 2065.43 160.269 Q2065.43 153.904 2068.86 150.177 Q2072.31 146.427 2078.14 146.427 Q2083.37 146.427 2086.4 149.806 Q2089.46 153.163 2089.46 158.95 M2085.2 157.7 Q2085.15 154.205 2083.23 152.121 Q2081.33 150.038 2078.19 150.038 Q2074.62 150.038 2072.47 152.052 Q2070.34 154.066 2070.01 157.723 L2085.2 157.7 Z\" fill=\"#000000\" fill-rule=\"evenodd\" fill-opacity=\"1\" /><path clip-path=\"url(#clip680)\" d=\"M 0 0 M2108.95 151.033 Q2108.23 150.617 2107.38 150.431 Q2106.54 150.223 2105.52 150.223 Q2101.91 150.223 2099.97 152.584 Q2098.05 154.922 2098.05 159.32 L2098.05 172.978 L2093.76 172.978 L2093.76 147.052 L2098.05 147.052 L2098.05 151.08 Q2099.39 148.718 2101.54 147.584 Q2103.7 146.427 2106.77 146.427 Q2107.21 146.427 2107.75 146.496 Q2108.28 146.543 2108.93 146.658 L2108.95 151.033 Z\" fill=\"#000000\" fill-rule=\"evenodd\" fill-opacity=\"1\" /><path clip-path=\"url(#clip680)\" d=\"M 0 0 M2134.55 158.95 L2134.55 161.033 L2114.97 161.033 Q2115.25 165.431 2117.61 167.746 Q2119.99 170.038 2124.23 170.038 Q2126.68 170.038 2128.97 169.436 Q2131.29 168.834 2133.56 167.63 L2133.56 171.658 Q2131.26 172.63 2128.86 173.14 Q2126.45 173.649 2123.97 173.649 Q2117.77 173.649 2114.14 170.038 Q2110.52 166.427 2110.52 160.269 Q2110.52 153.904 2113.95 150.177 Q2117.4 146.427 2123.23 146.427 Q2128.46 146.427 2131.5 149.806 Q2134.55 153.163 2134.55 158.95 M2130.29 157.7 Q2130.25 154.205 2128.32 152.121 Q2126.43 150.038 2123.28 150.038 Q2119.71 150.038 2117.56 152.052 Q2115.43 154.066 2115.11 157.723 L2130.29 157.7 Z\" fill=\"#000000\" fill-rule=\"evenodd\" fill-opacity=\"1\" /><path clip-path=\"url(#clip680)\" d=\"M 0 0 M2160.57 157.329 L2160.57 172.978 L2156.31 172.978 L2156.31 157.468 Q2156.31 153.788 2154.88 151.959 Q2153.44 150.13 2150.57 150.13 Q2147.12 150.13 2145.13 152.33 Q2143.14 154.529 2143.14 158.325 L2143.14 172.978 L2138.86 172.978 L2138.86 147.052 L2143.14 147.052 L2143.14 151.08 Q2144.67 148.742 2146.73 147.584 Q2148.81 146.427 2151.52 146.427 Q2155.99 146.427 2158.28 149.205 Q2160.57 151.959 2160.57 157.329 Z\" fill=\"#000000\" fill-rule=\"evenodd\" fill-opacity=\"1\" /><path clip-path=\"url(#clip680)\" d=\"M 0 0 M2183.69 148.047 L2183.69 152.029 Q2181.89 151.033 2180.06 150.547 Q2178.26 150.038 2176.4 150.038 Q2172.26 150.038 2169.97 152.677 Q2167.68 155.292 2167.68 160.038 Q2167.68 164.783 2169.97 167.422 Q2172.26 170.038 2176.4 170.038 Q2178.26 170.038 2180.06 169.552 Q2181.89 169.042 2183.69 168.047 L2183.69 171.982 Q2181.91 172.816 2179.99 173.232 Q2178.09 173.649 2175.94 173.649 Q2170.08 173.649 2166.63 169.968 Q2163.19 166.288 2163.19 160.038 Q2163.19 153.695 2166.66 150.061 Q2170.15 146.427 2176.22 146.427 Q2178.19 146.427 2180.06 146.843 Q2181.94 147.237 2183.69 148.047 Z\" fill=\"#000000\" fill-rule=\"evenodd\" fill-opacity=\"1\" /><path clip-path=\"url(#clip680)\" d=\"M 0 0 M2210.34 158.95 L2210.34 161.033 L2190.76 161.033 Q2191.03 165.431 2193.39 167.746 Q2195.78 170.038 2200.01 170.038 Q2202.47 170.038 2204.76 169.436 Q2207.07 168.834 2209.34 167.63 L2209.34 171.658 Q2207.05 172.63 2204.64 173.14 Q2202.24 173.649 2199.76 173.649 Q2193.56 173.649 2189.92 170.038 Q2186.31 166.427 2186.31 160.269 Q2186.31 153.904 2189.74 150.177 Q2193.19 146.427 2199.02 146.427 Q2204.25 146.427 2207.28 149.806 Q2210.34 153.163 2210.34 158.95 M2206.08 157.7 Q2206.03 154.205 2204.11 152.121 Q2202.21 150.038 2199.07 150.038 Q2195.5 150.038 2193.35 152.052 Q2191.22 154.066 2190.89 157.723 L2206.08 157.7 Z\" fill=\"#000000\" fill-rule=\"evenodd\" fill-opacity=\"1\" /><circle clip-path=\"url(#clip680)\" cx=\"1895.71\" cy=\"216.178\" r=\"23\" fill=\"#e26f46\" fill-rule=\"evenodd\" fill-opacity=\"1\" stroke=\"#000000\" stroke-opacity=\"1\" stroke-width=\"5.12\"/>\n",
       "<path clip-path=\"url(#clip680)\" d=\"M 0 0 M2021.66 201.56 L2021.66 206.49 Q2019.3 204.291 2016.61 203.203 Q2013.95 202.115 2010.94 202.115 Q2005.02 202.115 2001.87 205.749 Q1998.72 209.36 1998.72 216.212 Q1998.72 223.041 2001.87 226.675 Q2005.02 230.286 2010.94 230.286 Q2013.95 230.286 2016.61 229.198 Q2019.3 228.11 2021.66 225.911 L2021.66 230.796 Q2019.21 232.462 2016.45 233.296 Q2013.72 234.129 2010.66 234.129 Q2002.82 234.129 1998.3 229.337 Q1993.79 224.522 1993.79 216.212 Q1993.79 207.879 1998.3 203.087 Q2002.82 198.273 2010.66 198.273 Q2013.77 198.273 2016.5 199.106 Q2019.25 199.916 2021.66 201.56 Z\" fill=\"#000000\" fill-rule=\"evenodd\" fill-opacity=\"1\" /><path clip-path=\"url(#clip680)\" d=\"M 0 0 M2047.68 217.809 L2047.68 233.458 L2043.42 233.458 L2043.42 217.948 Q2043.42 214.268 2041.98 212.439 Q2040.55 210.61 2037.68 210.61 Q2034.23 210.61 2032.24 212.81 Q2030.25 215.009 2030.25 218.805 L2030.25 233.458 L2025.96 233.458 L2025.96 197.439 L2030.25 197.439 L2030.25 211.56 Q2031.77 209.222 2033.83 208.064 Q2035.92 206.907 2038.63 206.907 Q2043.09 206.907 2045.39 209.685 Q2047.68 212.439 2047.68 217.809 Z\" fill=\"#000000\" fill-rule=\"evenodd\" fill-opacity=\"1\" /><path clip-path=\"url(#clip680)\" d=\"M 0 0 M2074.32 219.43 L2074.32 221.513 L2054.74 221.513 Q2055.02 225.911 2057.38 228.226 Q2059.76 230.518 2064 230.518 Q2066.45 230.518 2068.74 229.916 Q2071.06 229.314 2073.33 228.11 L2073.33 232.138 Q2071.03 233.11 2068.63 233.62 Q2066.22 234.129 2063.74 234.129 Q2057.54 234.129 2053.9 230.518 Q2050.29 226.907 2050.29 220.749 Q2050.29 214.384 2053.72 210.657 Q2057.17 206.907 2063 206.907 Q2068.23 206.907 2071.26 210.286 Q2074.32 213.643 2074.32 219.43 M2070.06 218.18 Q2070.01 214.685 2068.09 212.601 Q2066.2 210.518 2063.05 210.518 Q2059.48 210.518 2057.33 212.532 Q2055.2 214.546 2054.88 218.203 L2070.06 218.18 Z\" fill=\"#000000\" fill-rule=\"evenodd\" fill-opacity=\"1\" /><path clip-path=\"url(#clip680)\" d=\"M 0 0 M2097.4 220.518 Q2097.4 215.819 2095.45 213.157 Q2093.53 210.472 2090.15 210.472 Q2086.77 210.472 2084.83 213.157 Q2082.91 215.819 2082.91 220.518 Q2082.91 225.217 2084.83 227.902 Q2086.77 230.564 2090.15 230.564 Q2093.53 230.564 2095.45 227.902 Q2097.4 225.217 2097.4 220.518 M2082.91 211.467 Q2084.25 209.152 2086.29 208.041 Q2088.35 206.907 2091.2 206.907 Q2095.92 206.907 2098.86 210.657 Q2101.82 214.407 2101.82 220.518 Q2101.82 226.629 2098.86 230.379 Q2095.92 234.129 2091.2 234.129 Q2088.35 234.129 2086.29 233.018 Q2084.25 231.883 2082.91 229.569 L2082.91 233.458 L2078.63 233.458 L2078.63 197.439 L2082.91 197.439 L2082.91 211.467 Z\" fill=\"#000000\" fill-rule=\"evenodd\" fill-opacity=\"1\" /><path clip-path=\"url(#clip680)\" d=\"M 0 0 M2117.07 235.865 Q2115.27 240.495 2113.56 241.907 Q2111.84 243.319 2108.97 243.319 L2105.57 243.319 L2105.57 239.754 L2108.07 239.754 Q2109.83 239.754 2110.8 238.92 Q2111.77 238.087 2112.95 234.985 L2113.72 233.041 L2103.23 207.532 L2107.75 207.532 L2115.85 227.809 L2123.95 207.532 L2128.46 207.532 L2117.07 235.865 Z\" fill=\"#000000\" fill-rule=\"evenodd\" fill-opacity=\"1\" /><path clip-path=\"url(#clip680)\" d=\"M 0 0 M2149.46 208.296 L2149.46 212.323 Q2147.65 211.397 2145.71 210.935 Q2143.76 210.472 2141.68 210.472 Q2138.51 210.472 2136.91 211.444 Q2135.34 212.416 2135.34 214.36 Q2135.34 215.842 2136.47 216.698 Q2137.61 217.532 2141.03 218.296 L2142.49 218.62 Q2147.03 219.592 2148.93 221.374 Q2150.85 223.134 2150.85 226.305 Q2150.85 229.916 2147.98 232.022 Q2145.13 234.129 2140.13 234.129 Q2138.05 234.129 2135.78 233.712 Q2133.53 233.319 2131.03 232.508 L2131.03 228.11 Q2133.39 229.337 2135.69 229.962 Q2137.98 230.564 2140.22 230.564 Q2143.23 230.564 2144.85 229.546 Q2146.47 228.504 2146.47 226.629 Q2146.47 224.893 2145.29 223.967 Q2144.13 223.041 2140.18 222.184 L2138.7 221.837 Q2134.74 221.004 2132.98 219.291 Q2131.22 217.555 2131.22 214.546 Q2131.22 210.888 2133.81 208.898 Q2136.4 206.907 2141.17 206.907 Q2143.53 206.907 2145.62 207.254 Q2147.7 207.601 2149.46 208.296 Z\" fill=\"#000000\" fill-rule=\"evenodd\" fill-opacity=\"1\" /><path clip-path=\"url(#clip680)\" d=\"M 0 0 M2176.87 217.809 L2176.87 233.458 L2172.61 233.458 L2172.61 217.948 Q2172.61 214.268 2171.17 212.439 Q2169.74 210.61 2166.87 210.61 Q2163.42 210.61 2161.43 212.81 Q2159.44 215.009 2159.44 218.805 L2159.44 233.458 L2155.15 233.458 L2155.15 197.439 L2159.44 197.439 L2159.44 211.56 Q2160.96 209.222 2163.02 208.064 Q2165.11 206.907 2167.82 206.907 Q2172.28 206.907 2174.57 209.685 Q2176.87 212.439 2176.87 217.809 Z\" fill=\"#000000\" fill-rule=\"evenodd\" fill-opacity=\"1\" /><path clip-path=\"url(#clip680)\" d=\"M 0 0 M2203.51 219.43 L2203.51 221.513 L2183.93 221.513 Q2184.2 225.911 2186.57 228.226 Q2188.95 230.518 2193.19 230.518 Q2195.64 230.518 2197.93 229.916 Q2200.25 229.314 2202.51 228.11 L2202.51 232.138 Q2200.22 233.11 2197.82 233.62 Q2195.41 234.129 2192.93 234.129 Q2186.73 234.129 2183.09 230.518 Q2179.48 226.907 2179.48 220.749 Q2179.48 214.384 2182.91 210.657 Q2186.36 206.907 2192.19 206.907 Q2197.42 206.907 2200.45 210.286 Q2203.51 213.643 2203.51 219.43 M2199.25 218.18 Q2199.2 214.685 2197.28 212.601 Q2195.38 210.518 2192.24 210.518 Q2188.67 210.518 2186.52 212.532 Q2184.39 214.546 2184.07 218.203 L2199.25 218.18 Z\" fill=\"#000000\" fill-rule=\"evenodd\" fill-opacity=\"1\" /><path clip-path=\"url(#clip680)\" d=\"M 0 0 M2204.92 207.532 L2209.44 207.532 L2217.54 229.291 L2225.64 207.532 L2230.15 207.532 L2220.43 233.458 L2214.64 233.458 L2204.92 207.532 Z\" fill=\"#000000\" fill-rule=\"evenodd\" fill-opacity=\"1\" /></svg>\n"
      ]
     },
     "execution_count": 3,
     "metadata": {},
     "output_type": "execute_result"
    }
   ],
   "source": [
    "N = 1:30\n",
    "p = scatter(N, π*log(2)*ones(size(N)),label=\"Reference\")\n",
    "p = scatter!(p, N, nastyintegral.(N), label=\"Chebyshev\")"
   ]
  },
  {
   "cell_type": "code",
   "execution_count": 4,
   "metadata": {},
   "outputs": [
    {
     "data": {
      "text/plain": [
       "114"
      ]
     },
     "execution_count": 4,
     "metadata": {},
     "output_type": "execute_result"
    }
   ],
   "source": [
    "n = 1\n",
    "e = 1\n",
    "\n",
    "while(e>1e-4)\n",
    "    n += 1\n",
    "    e = abs(π*log(2)-nastyintegral(n))\n",
    "end\n",
    "\n",
    "n"
   ]
  },
  {
   "cell_type": "markdown",
   "metadata": {},
   "source": [
    "## Adjourn"
   ]
  },
  {
   "cell_type": "code",
   "execution_count": 5,
   "metadata": {},
   "outputs": [
    {
     "name": "stdout",
     "output_type": "stream",
     "text": [
      "mahdiar\n"
     ]
    },
    {
     "data": {
      "text/plain": [
       "\"2021/April/10 15:02\""
      ]
     },
     "execution_count": 5,
     "metadata": {},
     "output_type": "execute_result"
    }
   ],
   "source": [
    "using Dates\n",
    "println(\"mahdiar\")\n",
    "Dates.format(now(), \"Y/U/d HH:MM\")  "
   ]
  }
 ],
 "metadata": {
  "kernelspec": {
   "display_name": "Julia 1.5.3",
   "language": "julia",
   "name": "julia-1.5"
  },
  "language_info": {
   "file_extension": ".jl",
   "mimetype": "application/julia",
   "name": "julia",
   "version": "1.5.3"
  }
 },
 "nbformat": 4,
 "nbformat_minor": 4
}
