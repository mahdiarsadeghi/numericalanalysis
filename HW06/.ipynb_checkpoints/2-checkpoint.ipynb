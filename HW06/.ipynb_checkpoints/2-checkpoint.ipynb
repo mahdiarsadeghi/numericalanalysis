{
 "cells": [
  {
   "cell_type": "markdown",
   "metadata": {},
   "source": [
    "# Eigenvalue Decomposition"
   ]
  },
  {
   "cell_type": "code",
   "execution_count": 1,
   "metadata": {},
   "outputs": [
    {
     "data": {
      "text/plain": [
       "0"
      ]
     },
     "execution_count": 1,
     "metadata": {},
     "output_type": "execute_result"
    }
   ],
   "source": [
    "using LinearAlgebra\n",
    "\n",
    "function test1(N)\n",
    "    A = rand(N,N)\n",
    "    S = eigen(A)\n",
    "    R = zeros(N)\n",
    "    for n=1:N\n",
    "        R[n] = norm(A*S.vectors[:,n] - S.values[n]*S.vectors[:,n])\n",
    "    end\n",
    "    if norm(R)<1e-10\n",
    "        return 0\n",
    "    end\n",
    "    return 1\n",
    "end\n",
    "\n",
    "test1(3)"
   ]
  },
  {
   "cell_type": "code",
   "execution_count": 2,
   "metadata": {},
   "outputs": [
    {
     "data": {
      "text/plain": [
       "\"Singular\""
      ]
     },
     "execution_count": 2,
     "metadata": {},
     "output_type": "execute_result"
    }
   ],
   "source": [
    "function test2(N)\n",
    "    A = rand(N,N)\n",
    "    S = eigen(A)\n",
    "    R = zeros(N)\n",
    "    for n=1:N\n",
    "        R[n] = cond(A - S.values[n]*I)\n",
    "    end\n",
    "    if norm(R)>1e10\n",
    "        return \"Singular\"\n",
    "    end\n",
    "    return \"Not Singular\"\n",
    "end\n",
    "\n",
    "test2(3)"
   ]
  },
  {
   "cell_type": "code",
   "execution_count": 3,
   "metadata": {},
   "outputs": [
    {
     "data": {
      "text/plain": [
       "\"Yes\""
      ]
     },
     "execution_count": 3,
     "metadata": {},
     "output_type": "execute_result"
    }
   ],
   "source": [
    "function test3(N)\n",
    "    A = rand(N,N)\n",
    "    S = eigen(A)\n",
    "    R = zeros(N)\n",
    "    for n=1:N\n",
    "        α = S.vectors[:,n]'*A*S.vectors[:,n]\n",
    "        β = S.vectors[:,n]'*S.vectors[:,n]\n",
    "        R[n] = S.values[n] - α/β\n",
    "    end\n",
    "    if norm(R)<1e-10\n",
    "        return \"Yes\"\n",
    "    end\n",
    "    return \"No\"\n",
    "end\n",
    "\n",
    "test3(3)"
   ]
  },
  {
   "cell_type": "markdown",
   "metadata": {},
   "source": [
    "## Adjourn"
   ]
  },
  {
   "cell_type": "code",
   "execution_count": 4,
   "metadata": {},
   "outputs": [
    {
     "name": "stdout",
     "output_type": "stream",
     "text": [
      "mahdiar\n"
     ]
    },
    {
     "data": {
      "text/plain": [
       "\"2021/March/4 18:53\""
      ]
     },
     "execution_count": 4,
     "metadata": {},
     "output_type": "execute_result"
    }
   ],
   "source": [
    "using Dates\n",
    "println(\"mahdiar\")\n",
    "Dates.format(now(), \"Y/U/d HH:MM\")  "
   ]
  }
 ],
 "metadata": {
  "kernelspec": {
   "display_name": "Julia 1.5.3",
   "language": "julia",
   "name": "julia-1.5"
  },
  "language_info": {
   "file_extension": ".jl",
   "mimetype": "application/julia",
   "name": "julia",
   "version": "1.5.3"
  }
 },
 "nbformat": 4,
 "nbformat_minor": 4
}
