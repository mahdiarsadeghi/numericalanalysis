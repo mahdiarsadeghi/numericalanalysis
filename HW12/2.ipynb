{
 "cells": [
  {
   "cell_type": "markdown",
   "metadata": {},
   "source": [
    "# Monte Carlo "
   ]
  },
  {
   "cell_type": "code",
   "execution_count": 1,
   "metadata": {},
   "outputs": [],
   "source": [
    "using Plots"
   ]
  },
  {
   "cell_type": "markdown",
   "metadata": {},
   "source": [
    "## Tetrahedron volume\n",
    "\n",
    "\n",
    "$$\n",
    "\\begin{align}\n",
    "V &= \\int_0^1{\\int_0^{1-x}{\\int_0^{1-x-y}{1 \\quad dz}dy}dx} \\\\\n",
    "&= \\int_0^1{\\int_0^{1-x}{1-x-y \\quad dy}dx} \\\\\n",
    "&= \\int_0^1{ \\left( y(1-x)-\\frac{y^2}{2} \\right)_{y=0}^{y=1-x} \\quad dx} \\\\\n",
    "&= \\int_0^1{ \\frac{(1-x)^2}{2} \\quad dx} \\\\\n",
    "&= \\int_0^1{ \\frac{1-2x+x^2}{2} \\quad dx} \\\\\n",
    "&= \\left( \\frac{x}{2} - \\frac{x^2}{2} + \\frac{x^3}{6} \\right)_{x=0}^{x=1} \\\\\n",
    "&= \\frac{1}{6}\n",
    "\\end{align}\n",
    "$$"
   ]
  },
  {
   "cell_type": "markdown",
   "metadata": {},
   "source": [
    "## Standard Monte Carlo integration"
   ]
  },
  {
   "cell_type": "code",
   "execution_count": 2,
   "metadata": {},
   "outputs": [
    {
     "data": {
      "text/plain": [
       "0.16"
      ]
     },
     "execution_count": 2,
     "metadata": {},
     "output_type": "execute_result"
    }
   ],
   "source": [
    "function montecarlo(iterations)\n",
    "    integral = 0\n",
    "    for i=1:iterations\n",
    "        x, y, z = rand(3)\n",
    "        if (x+y+z<1)\n",
    "            integral += 1\n",
    "        end\n",
    "    end\n",
    "    volume = integral/iterations\n",
    "end\n",
    "\n",
    "montecarlo(100)"
   ]
  },
  {
   "cell_type": "markdown",
   "metadata": {},
   "source": [
    "# Test"
   ]
  },
  {
   "cell_type": "code",
   "execution_count": 3,
   "metadata": {},
   "outputs": [
    {
     "data": {
      "text/plain": [
       "montecarlotest (generic function with 1 method)"
      ]
     },
     "execution_count": 3,
     "metadata": {},
     "output_type": "execute_result"
    }
   ],
   "source": [
    "function montecarlotest(iterations)\n",
    "    err = log10(abs(montecarlo(iterations)-1/6))\n",
    "end"
   ]
  },
  {
   "cell_type": "code",
   "execution_count": 4,
   "metadata": {},
   "outputs": [
    {
     "data": {
      "image/svg+xml": [
       "<?xml version=\"1.0\" encoding=\"utf-8\"?>\n",
       "<svg xmlns=\"http://www.w3.org/2000/svg\" xmlns:xlink=\"http://www.w3.org/1999/xlink\" width=\"600\" height=\"400\" viewBox=\"0 0 2400 1600\">\n",
       "<defs>\n",
       "  <clipPath id=\"clip390\">\n",
       "    <rect x=\"0\" y=\"0\" width=\"2400\" height=\"1600\"/>\n",
       "  </clipPath>\n",
       "</defs>\n",
       "<path clip-path=\"url(#clip390)\" d=\"\n",
       "M0 1600 L2400 1600 L2400 0 L0 0  Z\n",
       "  \" fill=\"#ffffff\" fill-rule=\"evenodd\" fill-opacity=\"1\"/>\n",
       "<defs>\n",
       "  <clipPath id=\"clip391\">\n",
       "    <rect x=\"480\" y=\"0\" width=\"1681\" height=\"1600\"/>\n",
       "  </clipPath>\n",
       "</defs>\n",
       "<path clip-path=\"url(#clip390)\" d=\"\n",
       "M144.168 1486.45 L2352.76 1486.45 L2352.76 47.2441 L144.168 47.2441  Z\n",
       "  \" fill=\"#ffffff\" fill-rule=\"evenodd\" fill-opacity=\"1\"/>\n",
       "<defs>\n",
       "  <clipPath id=\"clip392\">\n",
       "    <rect x=\"144\" y=\"47\" width=\"2210\" height=\"1440\"/>\n",
       "  </clipPath>\n",
       "</defs>\n",
       "<polyline clip-path=\"url(#clip392)\" style=\"stroke:#000000; stroke-width:2; stroke-opacity:0.1; fill:none\" points=\"\n",
       "  206.675,1486.45 206.675,47.2441 \n",
       "  \"/>\n",
       "<polyline clip-path=\"url(#clip392)\" style=\"stroke:#000000; stroke-width:2; stroke-opacity:0.1; fill:none\" points=\"\n",
       "  553.937,1486.45 553.937,47.2441 \n",
       "  \"/>\n",
       "<polyline clip-path=\"url(#clip392)\" style=\"stroke:#000000; stroke-width:2; stroke-opacity:0.1; fill:none\" points=\"\n",
       "  901.2,1486.45 901.2,47.2441 \n",
       "  \"/>\n",
       "<polyline clip-path=\"url(#clip392)\" style=\"stroke:#000000; stroke-width:2; stroke-opacity:0.1; fill:none\" points=\"\n",
       "  1248.46,1486.45 1248.46,47.2441 \n",
       "  \"/>\n",
       "<polyline clip-path=\"url(#clip392)\" style=\"stroke:#000000; stroke-width:2; stroke-opacity:0.1; fill:none\" points=\"\n",
       "  1595.72,1486.45 1595.72,47.2441 \n",
       "  \"/>\n",
       "<polyline clip-path=\"url(#clip392)\" style=\"stroke:#000000; stroke-width:2; stroke-opacity:0.1; fill:none\" points=\"\n",
       "  1942.99,1486.45 1942.99,47.2441 \n",
       "  \"/>\n",
       "<polyline clip-path=\"url(#clip392)\" style=\"stroke:#000000; stroke-width:2; stroke-opacity:0.1; fill:none\" points=\"\n",
       "  2290.25,1486.45 2290.25,47.2441 \n",
       "  \"/>\n",
       "<polyline clip-path=\"url(#clip390)\" style=\"stroke:#000000; stroke-width:4; stroke-opacity:1; fill:none\" points=\"\n",
       "  144.168,1486.45 2352.76,1486.45 \n",
       "  \"/>\n",
       "<polyline clip-path=\"url(#clip390)\" style=\"stroke:#000000; stroke-width:4; stroke-opacity:1; fill:none\" points=\"\n",
       "  206.675,1486.45 206.675,1469.18 \n",
       "  \"/>\n",
       "<polyline clip-path=\"url(#clip390)\" style=\"stroke:#000000; stroke-width:4; stroke-opacity:1; fill:none\" points=\"\n",
       "  553.937,1486.45 553.937,1469.18 \n",
       "  \"/>\n",
       "<polyline clip-path=\"url(#clip390)\" style=\"stroke:#000000; stroke-width:4; stroke-opacity:1; fill:none\" points=\"\n",
       "  901.2,1486.45 901.2,1469.18 \n",
       "  \"/>\n",
       "<polyline clip-path=\"url(#clip390)\" style=\"stroke:#000000; stroke-width:4; stroke-opacity:1; fill:none\" points=\"\n",
       "  1248.46,1486.45 1248.46,1469.18 \n",
       "  \"/>\n",
       "<polyline clip-path=\"url(#clip390)\" style=\"stroke:#000000; stroke-width:4; stroke-opacity:1; fill:none\" points=\"\n",
       "  1595.72,1486.45 1595.72,1469.18 \n",
       "  \"/>\n",
       "<polyline clip-path=\"url(#clip390)\" style=\"stroke:#000000; stroke-width:4; stroke-opacity:1; fill:none\" points=\"\n",
       "  1942.99,1486.45 1942.99,1469.18 \n",
       "  \"/>\n",
       "<polyline clip-path=\"url(#clip390)\" style=\"stroke:#000000; stroke-width:4; stroke-opacity:1; fill:none\" points=\"\n",
       "  2290.25,1486.45 2290.25,1469.18 \n",
       "  \"/>\n",
       "<path clip-path=\"url(#clip390)\" d=\"M 0 0 M197.057 1543.18 L204.696 1543.18 L204.696 1516.82 L196.386 1518.49 L196.386 1514.23 L204.65 1512.56 L209.325 1512.56 L209.325 1543.18 L216.964 1543.18 L216.964 1547.12 L197.057 1547.12 L197.057 1543.18 Z\" fill=\"#000000\" fill-rule=\"evenodd\" fill-opacity=\"1\" /><path clip-path=\"url(#clip390)\" d=\"M 0 0 M548.59 1543.18 L564.909 1543.18 L564.909 1547.12 L542.965 1547.12 L542.965 1543.18 Q545.627 1540.43 550.21 1535.8 Q554.817 1531.15 555.997 1529.81 Q558.243 1527.28 559.122 1525.55 Q560.025 1523.79 560.025 1522.1 Q560.025 1519.34 558.081 1517.61 Q556.159 1515.87 553.058 1515.87 Q550.859 1515.87 548.405 1516.63 Q545.974 1517.4 543.197 1518.95 L543.197 1514.23 Q546.021 1513.09 548.474 1512.51 Q550.928 1511.93 552.965 1511.93 Q558.335 1511.93 561.53 1514.62 Q564.724 1517.31 564.724 1521.8 Q564.724 1523.93 563.914 1525.85 Q563.127 1527.74 561.021 1530.34 Q560.442 1531.01 557.34 1534.23 Q554.238 1537.42 548.59 1543.18 Z\" fill=\"#000000\" fill-rule=\"evenodd\" fill-opacity=\"1\" /><path clip-path=\"url(#clip390)\" d=\"M 0 0 M905.447 1528.49 Q908.804 1529.2 910.679 1531.47 Q912.577 1533.74 912.577 1537.07 Q912.577 1542.19 909.058 1544.99 Q905.54 1547.79 899.058 1547.79 Q896.882 1547.79 894.568 1547.35 Q892.276 1546.93 889.822 1546.08 L889.822 1541.56 Q891.767 1542.7 894.082 1543.28 Q896.396 1543.86 898.919 1543.86 Q903.318 1543.86 905.609 1542.12 Q907.924 1540.38 907.924 1537.07 Q907.924 1534.02 905.771 1532.31 Q903.642 1530.57 899.822 1530.57 L895.794 1530.57 L895.794 1526.73 L900.007 1526.73 Q903.456 1526.73 905.285 1525.36 Q907.114 1523.97 907.114 1521.38 Q907.114 1518.72 905.216 1517.31 Q903.341 1515.87 899.822 1515.87 Q897.901 1515.87 895.702 1516.29 Q893.503 1516.7 890.864 1517.58 L890.864 1513.42 Q893.526 1512.68 895.841 1512.31 Q898.179 1511.93 900.239 1511.93 Q905.563 1511.93 908.665 1514.37 Q911.767 1516.77 911.767 1520.89 Q911.767 1523.76 910.123 1525.75 Q908.48 1527.72 905.447 1528.49 Z\" fill=\"#000000\" fill-rule=\"evenodd\" fill-opacity=\"1\" /><path clip-path=\"url(#clip390)\" d=\"M 0 0 M1251.47 1516.63 L1239.67 1535.08 L1251.47 1535.08 L1251.47 1516.63 M1250.24 1512.56 L1256.12 1512.56 L1256.12 1535.08 L1261.05 1535.08 L1261.05 1538.97 L1256.12 1538.97 L1256.12 1547.12 L1251.47 1547.12 L1251.47 1538.97 L1235.87 1538.97 L1235.87 1534.46 L1250.24 1512.56 Z\" fill=\"#000000\" fill-rule=\"evenodd\" fill-opacity=\"1\" /><path clip-path=\"url(#clip390)\" d=\"M 0 0 M1586 1512.56 L1604.36 1512.56 L1604.36 1516.5 L1590.28 1516.5 L1590.28 1524.97 Q1591.3 1524.62 1592.32 1524.46 Q1593.34 1524.27 1594.36 1524.27 Q1600.15 1524.27 1603.52 1527.44 Q1606.9 1530.62 1606.9 1536.03 Q1606.9 1541.61 1603.43 1544.71 Q1599.96 1547.79 1593.64 1547.79 Q1591.46 1547.79 1589.2 1547.42 Q1586.95 1547.05 1584.54 1546.31 L1584.54 1541.61 Q1586.63 1542.74 1588.85 1543.3 Q1591.07 1543.86 1593.55 1543.86 Q1597.55 1543.86 1599.89 1541.75 Q1602.23 1539.64 1602.23 1536.03 Q1602.23 1532.42 1599.89 1530.31 Q1597.55 1528.21 1593.55 1528.21 Q1591.67 1528.21 1589.8 1528.62 Q1587.95 1529.04 1586 1529.92 L1586 1512.56 Z\" fill=\"#000000\" fill-rule=\"evenodd\" fill-opacity=\"1\" /><path clip-path=\"url(#clip390)\" d=\"M 0 0 M1943.39 1527.98 Q1940.24 1527.98 1938.39 1530.13 Q1936.56 1532.28 1936.56 1536.03 Q1936.56 1539.76 1938.39 1541.93 Q1940.24 1544.09 1943.39 1544.09 Q1946.54 1544.09 1948.37 1541.93 Q1950.22 1539.76 1950.22 1536.03 Q1950.22 1532.28 1948.37 1530.13 Q1946.54 1527.98 1943.39 1527.98 M1952.67 1513.32 L1952.67 1517.58 Q1950.91 1516.75 1949.11 1516.31 Q1947.33 1515.87 1945.57 1515.87 Q1940.94 1515.87 1938.48 1519 Q1936.05 1522.12 1935.71 1528.44 Q1937.07 1526.43 1939.13 1525.36 Q1941.19 1524.27 1943.67 1524.27 Q1948.88 1524.27 1951.89 1527.44 Q1954.92 1530.59 1954.92 1536.03 Q1954.92 1541.36 1951.77 1544.57 Q1948.62 1547.79 1943.39 1547.79 Q1937.4 1547.79 1934.22 1543.21 Q1931.05 1538.6 1931.05 1529.87 Q1931.05 1521.68 1934.94 1516.82 Q1938.83 1511.93 1945.38 1511.93 Q1947.14 1511.93 1948.92 1512.28 Q1950.73 1512.63 1952.67 1513.32 Z\" fill=\"#000000\" fill-rule=\"evenodd\" fill-opacity=\"1\" /><path clip-path=\"url(#clip390)\" d=\"M 0 0 M2279.14 1512.56 L2301.36 1512.56 L2301.36 1514.55 L2288.81 1547.12 L2283.93 1547.12 L2295.73 1516.5 L2279.14 1516.5 L2279.14 1512.56 Z\" fill=\"#000000\" fill-rule=\"evenodd\" fill-opacity=\"1\" /><polyline clip-path=\"url(#clip392)\" style=\"stroke:#000000; stroke-width:2; stroke-opacity:0.1; fill:none\" points=\"\n",
       "  144.168,1407.39 2352.76,1407.39 \n",
       "  \"/>\n",
       "<polyline clip-path=\"url(#clip392)\" style=\"stroke:#000000; stroke-width:2; stroke-opacity:0.1; fill:none\" points=\"\n",
       "  144.168,1105.33 2352.76,1105.33 \n",
       "  \"/>\n",
       "<polyline clip-path=\"url(#clip392)\" style=\"stroke:#000000; stroke-width:2; stroke-opacity:0.1; fill:none\" points=\"\n",
       "  144.168,803.261 2352.76,803.261 \n",
       "  \"/>\n",
       "<polyline clip-path=\"url(#clip392)\" style=\"stroke:#000000; stroke-width:2; stroke-opacity:0.1; fill:none\" points=\"\n",
       "  144.168,501.195 2352.76,501.195 \n",
       "  \"/>\n",
       "<polyline clip-path=\"url(#clip392)\" style=\"stroke:#000000; stroke-width:2; stroke-opacity:0.1; fill:none\" points=\"\n",
       "  144.168,199.129 2352.76,199.129 \n",
       "  \"/>\n",
       "<polyline clip-path=\"url(#clip390)\" style=\"stroke:#000000; stroke-width:4; stroke-opacity:1; fill:none\" points=\"\n",
       "  144.168,1486.45 144.168,47.2441 \n",
       "  \"/>\n",
       "<polyline clip-path=\"url(#clip390)\" style=\"stroke:#000000; stroke-width:4; stroke-opacity:1; fill:none\" points=\"\n",
       "  144.168,1407.39 170.671,1407.39 \n",
       "  \"/>\n",
       "<polyline clip-path=\"url(#clip390)\" style=\"stroke:#000000; stroke-width:4; stroke-opacity:1; fill:none\" points=\"\n",
       "  144.168,1105.33 170.671,1105.33 \n",
       "  \"/>\n",
       "<polyline clip-path=\"url(#clip390)\" style=\"stroke:#000000; stroke-width:4; stroke-opacity:1; fill:none\" points=\"\n",
       "  144.168,803.261 170.671,803.261 \n",
       "  \"/>\n",
       "<polyline clip-path=\"url(#clip390)\" style=\"stroke:#000000; stroke-width:4; stroke-opacity:1; fill:none\" points=\"\n",
       "  144.168,501.195 170.671,501.195 \n",
       "  \"/>\n",
       "<polyline clip-path=\"url(#clip390)\" style=\"stroke:#000000; stroke-width:4; stroke-opacity:1; fill:none\" points=\"\n",
       "  144.168,199.129 170.671,199.129 \n",
       "  \"/>\n",
       "<path clip-path=\"url(#clip390)\" d=\"M 0 0 M52.4736 1407.84 L82.1494 1407.84 L82.1494 1411.78 L52.4736 1411.78 L52.4736 1407.84 Z\" fill=\"#000000\" fill-rule=\"evenodd\" fill-opacity=\"1\" /><path clip-path=\"url(#clip390)\" d=\"M 0 0 M87.2651 1390.11 L105.621 1390.11 L105.621 1394.05 L91.5475 1394.05 L91.5475 1402.52 Q92.566 1402.17 93.5845 1402.01 Q94.603 1401.82 95.6215 1401.82 Q101.409 1401.82 104.788 1405 Q108.168 1408.17 108.168 1413.58 Q108.168 1419.16 104.696 1422.26 Q101.223 1425.34 94.9039 1425.34 Q92.728 1425.34 90.4595 1424.97 Q88.2141 1424.6 85.8068 1423.86 L85.8068 1419.16 Q87.8901 1420.3 90.1123 1420.85 Q92.3345 1421.41 94.8113 1421.41 Q98.8159 1421.41 101.154 1419.3 Q103.492 1417.19 103.492 1413.58 Q103.492 1409.97 101.154 1407.87 Q98.8159 1405.76 94.8113 1405.76 Q92.9363 1405.76 91.0614 1406.18 Q89.2095 1406.59 87.2651 1407.47 L87.2651 1390.11 Z\" fill=\"#000000\" fill-rule=\"evenodd\" fill-opacity=\"1\" /><path clip-path=\"url(#clip390)\" d=\"M 0 0 M50.9921 1105.78 L80.6679 1105.78 L80.6679 1109.71 L50.9921 1109.71 L50.9921 1105.78 Z\" fill=\"#000000\" fill-rule=\"evenodd\" fill-opacity=\"1\" /><path clip-path=\"url(#clip390)\" d=\"M 0 0 M98.5845 1092.12 L86.779 1110.57 L98.5845 1110.57 L98.5845 1092.12 M97.3576 1088.05 L103.237 1088.05 L103.237 1110.57 L108.168 1110.57 L108.168 1114.46 L103.237 1114.46 L103.237 1122.61 L98.5845 1122.61 L98.5845 1114.46 L82.9827 1114.46 L82.9827 1109.94 L97.3576 1088.05 Z\" fill=\"#000000\" fill-rule=\"evenodd\" fill-opacity=\"1\" /><path clip-path=\"url(#clip390)\" d=\"M 0 0 M52.1264 803.712 L81.8021 803.712 L81.8021 807.647 L52.1264 807.647 L52.1264 803.712 Z\" fill=\"#000000\" fill-rule=\"evenodd\" fill-opacity=\"1\" /><path clip-path=\"url(#clip390)\" d=\"M 0 0 M101.038 801.906 Q104.395 802.624 106.27 804.892 Q108.168 807.161 108.168 810.494 Q108.168 815.61 104.649 818.411 Q101.131 821.212 94.6493 821.212 Q92.4734 821.212 90.1586 820.772 Q87.8669 820.355 85.4132 819.499 L85.4132 814.985 Q87.3577 816.119 89.6725 816.698 Q91.9873 817.277 94.5104 817.277 Q98.9085 817.277 101.2 815.541 Q103.515 813.804 103.515 810.494 Q103.515 807.439 101.362 805.726 Q99.2326 803.99 95.4132 803.99 L91.3854 803.99 L91.3854 800.147 L95.5984 800.147 Q99.0474 800.147 100.876 798.781 Q102.705 797.393 102.705 794.8 Q102.705 792.138 100.807 790.726 Q98.9317 789.291 95.4132 789.291 Q93.4919 789.291 91.2928 789.707 Q89.0938 790.124 86.4549 791.004 L86.4549 786.837 Q89.1169 786.096 91.4317 785.726 Q93.7697 785.356 95.8298 785.356 Q101.154 785.356 104.256 787.786 Q107.358 790.193 107.358 794.314 Q107.358 797.184 105.714 799.175 Q104.071 801.142 101.038 801.906 Z\" fill=\"#000000\" fill-rule=\"evenodd\" fill-opacity=\"1\" /><path clip-path=\"url(#clip390)\" d=\"M 0 0 M53.0754 501.646 L82.7512 501.646 L82.7512 505.582 L53.0754 505.582 L53.0754 501.646 Z\" fill=\"#000000\" fill-rule=\"evenodd\" fill-opacity=\"1\" /><path clip-path=\"url(#clip390)\" d=\"M 0 0 M91.8484 514.54 L108.168 514.54 L108.168 518.475 L86.2234 518.475 L86.2234 514.54 Q88.8854 511.785 93.4688 507.156 Q98.0752 502.503 99.2558 501.16 Q101.501 498.637 102.381 496.901 Q103.284 495.142 103.284 493.452 Q103.284 490.697 101.339 488.961 Q99.4178 487.225 96.316 487.225 Q94.1169 487.225 91.6632 487.989 Q89.2327 488.753 86.4549 490.304 L86.4549 485.582 Q89.279 484.447 91.7326 483.869 Q94.1863 483.29 96.2234 483.29 Q101.594 483.29 104.788 485.975 Q107.983 488.66 107.983 493.151 Q107.983 495.281 107.172 497.202 Q106.385 499.1 104.279 501.693 Q103.7 502.364 100.598 505.582 Q97.4965 508.776 91.8484 514.54 Z\" fill=\"#000000\" fill-rule=\"evenodd\" fill-opacity=\"1\" /><path clip-path=\"url(#clip390)\" d=\"M 0 0 M52.7051 199.581 L82.3808 199.581 L82.3808 203.516 L52.7051 203.516 L52.7051 199.581 Z\" fill=\"#000000\" fill-rule=\"evenodd\" fill-opacity=\"1\" /><path clip-path=\"url(#clip390)\" d=\"M 0 0 M88.2604 212.474 L95.8993 212.474 L95.8993 186.109 L87.5892 187.775 L87.5892 183.516 L95.853 181.849 L100.529 181.849 L100.529 212.474 L108.168 212.474 L108.168 216.409 L88.2604 216.409 L88.2604 212.474 Z\" fill=\"#000000\" fill-rule=\"evenodd\" fill-opacity=\"1\" /><circle clip-path=\"url(#clip392)\" cx=\"206.675\" cy=\"252.32\" r=\"14\" fill=\"#009af9\" fill-rule=\"evenodd\" fill-opacity=\"1\" stroke=\"#000000\" stroke-opacity=\"1\" stroke-width=\"3.2\"/>\n",
       "<circle clip-path=\"url(#clip392)\" cx=\"553.937\" cy=\"645.317\" r=\"14\" fill=\"#009af9\" fill-rule=\"evenodd\" fill-opacity=\"1\" stroke=\"#000000\" stroke-opacity=\"1\" stroke-width=\"3.2\"/>\n",
       "<circle clip-path=\"url(#clip392)\" cx=\"901.2\" cy=\"450.952\" r=\"14\" fill=\"#009af9\" fill-rule=\"evenodd\" fill-opacity=\"1\" stroke=\"#000000\" stroke-opacity=\"1\" stroke-width=\"3.2\"/>\n",
       "<circle clip-path=\"url(#clip392)\" cx=\"1248.46\" cy=\"566.758\" r=\"14\" fill=\"#009af9\" fill-rule=\"evenodd\" fill-opacity=\"1\" stroke=\"#000000\" stroke-opacity=\"1\" stroke-width=\"3.2\"/>\n",
       "<circle clip-path=\"url(#clip392)\" cx=\"1595.72\" cy=\"732.37\" r=\"14\" fill=\"#009af9\" fill-rule=\"evenodd\" fill-opacity=\"1\" stroke=\"#000000\" stroke-opacity=\"1\" stroke-width=\"3.2\"/>\n",
       "<circle clip-path=\"url(#clip392)\" cx=\"1942.99\" cy=\"946.859\" r=\"14\" fill=\"#009af9\" fill-rule=\"evenodd\" fill-opacity=\"1\" stroke=\"#000000\" stroke-opacity=\"1\" stroke-width=\"3.2\"/>\n",
       "<circle clip-path=\"url(#clip392)\" cx=\"2290.25\" cy=\"1401.41\" r=\"14\" fill=\"#009af9\" fill-rule=\"evenodd\" fill-opacity=\"1\" stroke=\"#000000\" stroke-opacity=\"1\" stroke-width=\"3.2\"/>\n",
       "<circle clip-path=\"url(#clip392)\" cx=\"206.675\" cy=\"161.39\" r=\"14\" fill=\"#e26f46\" fill-rule=\"evenodd\" fill-opacity=\"1\" stroke=\"#000000\" stroke-opacity=\"1\" stroke-width=\"3.2\"/>\n",
       "<circle clip-path=\"url(#clip392)\" cx=\"553.937\" cy=\"645.317\" r=\"14\" fill=\"#e26f46\" fill-rule=\"evenodd\" fill-opacity=\"1\" stroke=\"#000000\" stroke-opacity=\"1\" stroke-width=\"3.2\"/>\n",
       "<circle clip-path=\"url(#clip392)\" cx=\"901.2\" cy=\"575.706\" r=\"14\" fill=\"#e26f46\" fill-rule=\"evenodd\" fill-opacity=\"1\" stroke=\"#000000\" stroke-opacity=\"1\" stroke-width=\"3.2\"/>\n",
       "<circle clip-path=\"url(#clip392)\" cx=\"1248.46\" cy=\"695.91\" r=\"14\" fill=\"#e26f46\" fill-rule=\"evenodd\" fill-opacity=\"1\" stroke=\"#000000\" stroke-opacity=\"1\" stroke-width=\"3.2\"/>\n",
       "<circle clip-path=\"url(#clip392)\" cx=\"1595.72\" cy=\"798.959\" r=\"14\" fill=\"#e26f46\" fill-rule=\"evenodd\" fill-opacity=\"1\" stroke=\"#000000\" stroke-opacity=\"1\" stroke-width=\"3.2\"/>\n",
       "<circle clip-path=\"url(#clip392)\" cx=\"1942.99\" cy=\"896.218\" r=\"14\" fill=\"#e26f46\" fill-rule=\"evenodd\" fill-opacity=\"1\" stroke=\"#000000\" stroke-opacity=\"1\" stroke-width=\"3.2\"/>\n",
       "<circle clip-path=\"url(#clip392)\" cx=\"2290.25\" cy=\"1209.3\" r=\"14\" fill=\"#e26f46\" fill-rule=\"evenodd\" fill-opacity=\"1\" stroke=\"#000000\" stroke-opacity=\"1\" stroke-width=\"3.2\"/>\n",
       "<circle clip-path=\"url(#clip392)\" cx=\"206.675\" cy=\"87.9763\" r=\"14\" fill=\"#3da44d\" fill-rule=\"evenodd\" fill-opacity=\"1\" stroke=\"#000000\" stroke-opacity=\"1\" stroke-width=\"3.2\"/>\n",
       "<circle clip-path=\"url(#clip392)\" cx=\"553.937\" cy=\"308.833\" r=\"14\" fill=\"#3da44d\" fill-rule=\"evenodd\" fill-opacity=\"1\" stroke=\"#000000\" stroke-opacity=\"1\" stroke-width=\"3.2\"/>\n",
       "<circle clip-path=\"url(#clip392)\" cx=\"901.2\" cy=\"473.683\" r=\"14\" fill=\"#3da44d\" fill-rule=\"evenodd\" fill-opacity=\"1\" stroke=\"#000000\" stroke-opacity=\"1\" stroke-width=\"3.2\"/>\n",
       "<circle clip-path=\"url(#clip392)\" cx=\"1248.46\" cy=\"710.161\" r=\"14\" fill=\"#3da44d\" fill-rule=\"evenodd\" fill-opacity=\"1\" stroke=\"#000000\" stroke-opacity=\"1\" stroke-width=\"3.2\"/>\n",
       "<circle clip-path=\"url(#clip392)\" cx=\"1595.72\" cy=\"746.333\" r=\"14\" fill=\"#3da44d\" fill-rule=\"evenodd\" fill-opacity=\"1\" stroke=\"#000000\" stroke-opacity=\"1\" stroke-width=\"3.2\"/>\n",
       "<circle clip-path=\"url(#clip392)\" cx=\"1942.99\" cy=\"1426.16\" r=\"14\" fill=\"#3da44d\" fill-rule=\"evenodd\" fill-opacity=\"1\" stroke=\"#000000\" stroke-opacity=\"1\" stroke-width=\"3.2\"/>\n",
       "<circle clip-path=\"url(#clip392)\" cx=\"2290.25\" cy=\"985.455\" r=\"14\" fill=\"#3da44d\" fill-rule=\"evenodd\" fill-opacity=\"1\" stroke=\"#000000\" stroke-opacity=\"1\" stroke-width=\"3.2\"/>\n",
       "<circle clip-path=\"url(#clip392)\" cx=\"206.675\" cy=\"132.117\" r=\"14\" fill=\"#c271d2\" fill-rule=\"evenodd\" fill-opacity=\"1\" stroke=\"#000000\" stroke-opacity=\"1\" stroke-width=\"3.2\"/>\n",
       "<circle clip-path=\"url(#clip392)\" cx=\"553.937\" cy=\"390.042\" r=\"14\" fill=\"#c271d2\" fill-rule=\"evenodd\" fill-opacity=\"1\" stroke=\"#000000\" stroke-opacity=\"1\" stroke-width=\"3.2\"/>\n",
       "<circle clip-path=\"url(#clip392)\" cx=\"901.2\" cy=\"434.182\" r=\"14\" fill=\"#c271d2\" fill-rule=\"evenodd\" fill-opacity=\"1\" stroke=\"#000000\" stroke-opacity=\"1\" stroke-width=\"3.2\"/>\n",
       "<circle clip-path=\"url(#clip392)\" cx=\"1248.46\" cy=\"645.317\" r=\"14\" fill=\"#c271d2\" fill-rule=\"evenodd\" fill-opacity=\"1\" stroke=\"#000000\" stroke-opacity=\"1\" stroke-width=\"3.2\"/>\n",
       "<circle clip-path=\"url(#clip392)\" cx=\"1595.72\" cy=\"810.451\" r=\"14\" fill=\"#c271d2\" fill-rule=\"evenodd\" fill-opacity=\"1\" stroke=\"#000000\" stroke-opacity=\"1\" stroke-width=\"3.2\"/>\n",
       "<circle clip-path=\"url(#clip392)\" cx=\"1942.99\" cy=\"1199.8\" r=\"14\" fill=\"#c271d2\" fill-rule=\"evenodd\" fill-opacity=\"1\" stroke=\"#000000\" stroke-opacity=\"1\" stroke-width=\"3.2\"/>\n",
       "<circle clip-path=\"url(#clip392)\" cx=\"2290.25\" cy=\"1254.26\" r=\"14\" fill=\"#c271d2\" fill-rule=\"evenodd\" fill-opacity=\"1\" stroke=\"#000000\" stroke-opacity=\"1\" stroke-width=\"3.2\"/>\n",
       "<circle clip-path=\"url(#clip392)\" cx=\"206.675\" cy=\"343.251\" r=\"14\" fill=\"#ac8d18\" fill-rule=\"evenodd\" fill-opacity=\"1\" stroke=\"#000000\" stroke-opacity=\"1\" stroke-width=\"3.2\"/>\n",
       "<circle clip-path=\"url(#clip392)\" cx=\"553.937\" cy=\"330.748\" r=\"14\" fill=\"#ac8d18\" fill-rule=\"evenodd\" fill-opacity=\"1\" stroke=\"#000000\" stroke-opacity=\"1\" stroke-width=\"3.2\"/>\n",
       "<circle clip-path=\"url(#clip392)\" cx=\"901.2\" cy=\"601.177\" r=\"14\" fill=\"#ac8d18\" fill-rule=\"evenodd\" fill-opacity=\"1\" stroke=\"#000000\" stroke-opacity=\"1\" stroke-width=\"3.2\"/>\n",
       "<circle clip-path=\"url(#clip392)\" cx=\"1248.46\" cy=\"714.535\" r=\"14\" fill=\"#ac8d18\" fill-rule=\"evenodd\" fill-opacity=\"1\" stroke=\"#000000\" stroke-opacity=\"1\" stroke-width=\"3.2\"/>\n",
       "<circle clip-path=\"url(#clip392)\" cx=\"1595.72\" cy=\"702.436\" r=\"14\" fill=\"#ac8d18\" fill-rule=\"evenodd\" fill-opacity=\"1\" stroke=\"#000000\" stroke-opacity=\"1\" stroke-width=\"3.2\"/>\n",
       "<circle clip-path=\"url(#clip392)\" cx=\"1942.99\" cy=\"1108.87\" r=\"14\" fill=\"#ac8d18\" fill-rule=\"evenodd\" fill-opacity=\"1\" stroke=\"#000000\" stroke-opacity=\"1\" stroke-width=\"3.2\"/>\n",
       "<circle clip-path=\"url(#clip392)\" cx=\"2290.25\" cy=\"1069.57\" r=\"14\" fill=\"#ac8d18\" fill-rule=\"evenodd\" fill-opacity=\"1\" stroke=\"#000000\" stroke-opacity=\"1\" stroke-width=\"3.2\"/>\n",
       "<circle clip-path=\"url(#clip392)\" cx=\"206.675\" cy=\"252.32\" r=\"14\" fill=\"#00a9ad\" fill-rule=\"evenodd\" fill-opacity=\"1\" stroke=\"#000000\" stroke-opacity=\"1\" stroke-width=\"3.2\"/>\n",
       "<circle clip-path=\"url(#clip392)\" cx=\"553.937\" cy=\"645.317\" r=\"14\" fill=\"#00a9ad\" fill-rule=\"evenodd\" fill-opacity=\"1\" stroke=\"#000000\" stroke-opacity=\"1\" stroke-width=\"3.2\"/>\n",
       "<circle clip-path=\"url(#clip392)\" cx=\"901.2\" cy=\"525.113\" r=\"14\" fill=\"#00a9ad\" fill-rule=\"evenodd\" fill-opacity=\"1\" stroke=\"#000000\" stroke-opacity=\"1\" stroke-width=\"3.2\"/>\n",
       "<circle clip-path=\"url(#clip392)\" cx=\"1248.46\" cy=\"744.365\" r=\"14\" fill=\"#00a9ad\" fill-rule=\"evenodd\" fill-opacity=\"1\" stroke=\"#000000\" stroke-opacity=\"1\" stroke-width=\"3.2\"/>\n",
       "<circle clip-path=\"url(#clip392)\" cx=\"1595.72\" cy=\"858.434\" r=\"14\" fill=\"#00a9ad\" fill-rule=\"evenodd\" fill-opacity=\"1\" stroke=\"#000000\" stroke-opacity=\"1\" stroke-width=\"3.2\"/>\n",
       "<circle clip-path=\"url(#clip392)\" cx=\"1942.99\" cy=\"1249.45\" r=\"14\" fill=\"#00a9ad\" fill-rule=\"evenodd\" fill-opacity=\"1\" stroke=\"#000000\" stroke-opacity=\"1\" stroke-width=\"3.2\"/>\n",
       "<circle clip-path=\"url(#clip392)\" cx=\"2290.25\" cy=\"1253.31\" r=\"14\" fill=\"#00a9ad\" fill-rule=\"evenodd\" fill-opacity=\"1\" stroke=\"#000000\" stroke-opacity=\"1\" stroke-width=\"3.2\"/>\n",
       "<circle clip-path=\"url(#clip392)\" cx=\"206.675\" cy=\"343.251\" r=\"14\" fill=\"#ed5d92\" fill-rule=\"evenodd\" fill-opacity=\"1\" stroke=\"#000000\" stroke-opacity=\"1\" stroke-width=\"3.2\"/>\n",
       "<circle clip-path=\"url(#clip392)\" cx=\"553.937\" cy=\"390.042\" r=\"14\" fill=\"#ed5d92\" fill-rule=\"evenodd\" fill-opacity=\"1\" stroke=\"#000000\" stroke-opacity=\"1\" stroke-width=\"3.2\"/>\n",
       "<circle clip-path=\"url(#clip392)\" cx=\"901.2\" cy=\"429.037\" r=\"14\" fill=\"#ed5d92\" fill-rule=\"evenodd\" fill-opacity=\"1\" stroke=\"#000000\" stroke-opacity=\"1\" stroke-width=\"3.2\"/>\n",
       "<circle clip-path=\"url(#clip392)\" cx=\"1248.46\" cy=\"747.186\" r=\"14\" fill=\"#ed5d92\" fill-rule=\"evenodd\" fill-opacity=\"1\" stroke=\"#000000\" stroke-opacity=\"1\" stroke-width=\"3.2\"/>\n",
       "<circle clip-path=\"url(#clip392)\" cx=\"1595.72\" cy=\"959.755\" r=\"14\" fill=\"#ed5d92\" fill-rule=\"evenodd\" fill-opacity=\"1\" stroke=\"#000000\" stroke-opacity=\"1\" stroke-width=\"3.2\"/>\n",
       "<circle clip-path=\"url(#clip392)\" cx=\"1942.99\" cy=\"969.012\" r=\"14\" fill=\"#ed5d92\" fill-rule=\"evenodd\" fill-opacity=\"1\" stroke=\"#000000\" stroke-opacity=\"1\" stroke-width=\"3.2\"/>\n",
       "<circle clip-path=\"url(#clip392)\" cx=\"2290.25\" cy=\"1098.59\" r=\"14\" fill=\"#ed5d92\" fill-rule=\"evenodd\" fill-opacity=\"1\" stroke=\"#000000\" stroke-opacity=\"1\" stroke-width=\"3.2\"/>\n",
       "<circle clip-path=\"url(#clip392)\" cx=\"206.675\" cy=\"343.251\" r=\"14\" fill=\"#c68125\" fill-rule=\"evenodd\" fill-opacity=\"1\" stroke=\"#000000\" stroke-opacity=\"1\" stroke-width=\"3.2\"/>\n",
       "<circle clip-path=\"url(#clip392)\" cx=\"553.937\" cy=\"281.594\" r=\"14\" fill=\"#c68125\" fill-rule=\"evenodd\" fill-opacity=\"1\" stroke=\"#000000\" stroke-opacity=\"1\" stroke-width=\"3.2\"/>\n",
       "<circle clip-path=\"url(#clip392)\" cx=\"901.2\" cy=\"575.706\" r=\"14\" fill=\"#c68125\" fill-rule=\"evenodd\" fill-opacity=\"1\" stroke=\"#000000\" stroke-opacity=\"1\" stroke-width=\"3.2\"/>\n",
       "<circle clip-path=\"url(#clip392)\" cx=\"1248.46\" cy=\"695.91\" r=\"14\" fill=\"#c68125\" fill-rule=\"evenodd\" fill-opacity=\"1\" stroke=\"#000000\" stroke-opacity=\"1\" stroke-width=\"3.2\"/>\n",
       "<circle clip-path=\"url(#clip392)\" cx=\"1595.72\" cy=\"773.29\" r=\"14\" fill=\"#c68125\" fill-rule=\"evenodd\" fill-opacity=\"1\" stroke=\"#000000\" stroke-opacity=\"1\" stroke-width=\"3.2\"/>\n",
       "<circle clip-path=\"url(#clip392)\" cx=\"1942.99\" cy=\"1045.87\" r=\"14\" fill=\"#c68125\" fill-rule=\"evenodd\" fill-opacity=\"1\" stroke=\"#000000\" stroke-opacity=\"1\" stroke-width=\"3.2\"/>\n",
       "<circle clip-path=\"url(#clip392)\" cx=\"2290.25\" cy=\"1007.89\" r=\"14\" fill=\"#c68125\" fill-rule=\"evenodd\" fill-opacity=\"1\" stroke=\"#000000\" stroke-opacity=\"1\" stroke-width=\"3.2\"/>\n",
       "<circle clip-path=\"url(#clip392)\" cx=\"206.675\" cy=\"252.32\" r=\"14\" fill=\"#00a98d\" fill-rule=\"evenodd\" fill-opacity=\"1\" stroke=\"#000000\" stroke-opacity=\"1\" stroke-width=\"3.2\"/>\n",
       "<circle clip-path=\"url(#clip392)\" cx=\"553.937\" cy=\"554.386\" r=\"14\" fill=\"#00a98d\" fill-rule=\"evenodd\" fill-opacity=\"1\" stroke=\"#000000\" stroke-opacity=\"1\" stroke-width=\"3.2\"/>\n",
       "<circle clip-path=\"url(#clip392)\" cx=\"901.2\" cy=\"505.642\" r=\"14\" fill=\"#00a98d\" fill-rule=\"evenodd\" fill-opacity=\"1\" stroke=\"#000000\" stroke-opacity=\"1\" stroke-width=\"3.2\"/>\n",
       "<circle clip-path=\"url(#clip392)\" cx=\"1248.46\" cy=\"546.742\" r=\"14\" fill=\"#00a98d\" fill-rule=\"evenodd\" fill-opacity=\"1\" stroke=\"#000000\" stroke-opacity=\"1\" stroke-width=\"3.2\"/>\n",
       "<circle clip-path=\"url(#clip392)\" cx=\"1595.72\" cy=\"1030.67\" r=\"14\" fill=\"#00a98d\" fill-rule=\"evenodd\" fill-opacity=\"1\" stroke=\"#000000\" stroke-opacity=\"1\" stroke-width=\"3.2\"/>\n",
       "<circle clip-path=\"url(#clip392)\" cx=\"1942.99\" cy=\"1128.72\" r=\"14\" fill=\"#00a98d\" fill-rule=\"evenodd\" fill-opacity=\"1\" stroke=\"#000000\" stroke-opacity=\"1\" stroke-width=\"3.2\"/>\n",
       "<circle clip-path=\"url(#clip392)\" cx=\"2290.25\" cy=\"1445.72\" r=\"14\" fill=\"#00a98d\" fill-rule=\"evenodd\" fill-opacity=\"1\" stroke=\"#000000\" stroke-opacity=\"1\" stroke-width=\"3.2\"/>\n",
       "<circle clip-path=\"url(#clip392)\" cx=\"206.675\" cy=\"343.251\" r=\"14\" fill=\"#8e971d\" fill-rule=\"evenodd\" fill-opacity=\"1\" stroke=\"#000000\" stroke-opacity=\"1\" stroke-width=\"3.2\"/>\n",
       "<circle clip-path=\"url(#clip392)\" cx=\"553.937\" cy=\"554.386\" r=\"14\" fill=\"#8e971d\" fill-rule=\"evenodd\" fill-opacity=\"1\" stroke=\"#000000\" stroke-opacity=\"1\" stroke-width=\"3.2\"/>\n",
       "<circle clip-path=\"url(#clip392)\" cx=\"901.2\" cy=\"510.246\" r=\"14\" fill=\"#8e971d\" fill-rule=\"evenodd\" fill-opacity=\"1\" stroke=\"#000000\" stroke-opacity=\"1\" stroke-width=\"3.2\"/>\n",
       "<circle clip-path=\"url(#clip392)\" cx=\"1248.46\" cy=\"721.381\" r=\"14\" fill=\"#8e971d\" fill-rule=\"evenodd\" fill-opacity=\"1\" stroke=\"#000000\" stroke-opacity=\"1\" stroke-width=\"3.2\"/>\n",
       "<circle clip-path=\"url(#clip392)\" cx=\"1595.72\" cy=\"772.25\" r=\"14\" fill=\"#8e971d\" fill-rule=\"evenodd\" fill-opacity=\"1\" stroke=\"#000000\" stroke-opacity=\"1\" stroke-width=\"3.2\"/>\n",
       "<circle clip-path=\"url(#clip392)\" cx=\"1942.99\" cy=\"1194.52\" r=\"14\" fill=\"#8e971d\" fill-rule=\"evenodd\" fill-opacity=\"1\" stroke=\"#000000\" stroke-opacity=\"1\" stroke-width=\"3.2\"/>\n",
       "<circle clip-path=\"url(#clip392)\" cx=\"2290.25\" cy=\"1327.16\" r=\"14\" fill=\"#8e971d\" fill-rule=\"evenodd\" fill-opacity=\"1\" stroke=\"#000000\" stroke-opacity=\"1\" stroke-width=\"3.2\"/>\n",
       "</svg>\n"
      ]
     },
     "metadata": {},
     "output_type": "display_data"
    }
   ],
   "source": [
    "p = plot()\n",
    "for i=1:10\n",
    "    x = 1:7\n",
    "    y = montecarlotest.(10 .^x)\n",
    "    p = scatter!(p, x, y, label=:false)\n",
    "end\n",
    "\n",
    "display(p)"
   ]
  },
  {
   "cell_type": "markdown",
   "metadata": {},
   "source": [
    "## Adjourn"
   ]
  },
  {
   "cell_type": "code",
   "execution_count": 5,
   "metadata": {},
   "outputs": [
    {
     "name": "stdout",
     "output_type": "stream",
     "text": [
      "mahdiar\n"
     ]
    },
    {
     "data": {
      "text/plain": [
       "\"2021/April/17 16:17\""
      ]
     },
     "execution_count": 5,
     "metadata": {},
     "output_type": "execute_result"
    }
   ],
   "source": [
    "using Dates\n",
    "println(\"mahdiar\")\n",
    "Dates.format(now(), \"Y/U/d HH:MM\")  "
   ]
  }
 ],
 "metadata": {
  "kernelspec": {
   "display_name": "Julia 1.5.3",
   "language": "julia",
   "name": "julia-1.5"
  },
  "language_info": {
   "file_extension": ".jl",
   "mimetype": "application/julia",
   "name": "julia",
   "version": "1.5.3"
  }
 },
 "nbformat": 4,
 "nbformat_minor": 4
}
