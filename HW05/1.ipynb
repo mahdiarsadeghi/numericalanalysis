{
 "cells": [
  {
   "cell_type": "markdown",
   "metadata": {},
   "source": [
    "# First and Second Derivatives"
   ]
  },
  {
   "cell_type": "markdown",
   "metadata": {},
   "source": [
    "## Taylor's series expansion\n",
    "\n",
    "$\n",
    "\\begin{align}\n",
    "f(t_{n+1}) &= f(t_{n}) + f'(t_{n}) (t_{n+1}-t_{n}) + \\frac{f\"(t_{n})}{2} (t_{n+1}-t_{n})^2 + \\dots \\\\\n",
    "&= f(t_{n}) + \\Sigma_{d=1}^{\\infty} \\frac{f^{(d)}(t_{n})}{d!} (t_{n+1}-t_{n})^d \n",
    "\\end{align}\n",
    "$\n",
    "\n",
    "Where $f^{(d)}(t_{n})$ is the $d^{th}$ derivative of function $f()$ at $t=t_n$."
   ]
  },
  {
   "cell_type": "markdown",
   "metadata": {},
   "source": [
    "## Forward difference approximation\n",
    "\n",
    "$\n",
    "\\begin{align}\n",
    "f(t_{n+1}) &= f(t_{n}) + f'(t_{n}) (t_{n+1}-t_{n}) + O(2)\n",
    "\\end{align}\n",
    "$\n",
    "\n",
    "Assuming $O(2)<<1$, and $(t_{n+1}-t_{n}) =h$ then, \n",
    "\n",
    "$\n",
    "\\begin{align}\n",
    "f'(t_{n})  &= \\frac{f(t_{n+1})-f(t_{n})}{ (t_{n+1}-t_{n})} \\\\\n",
    "&= \\left (f(t_{n+1})-f(t_{n})\\right)/h\n",
    "\\end{align}\n",
    "$"
   ]
  },
  {
   "cell_type": "markdown",
   "metadata": {},
   "source": [
    "## Expansion at $t_{n-1}$\n",
    "\n",
    "$\n",
    "\\begin{align}\n",
    "f(t_{n-1}) &= f(t_{n}) - f'(t_{n}) (t_{n}-t_{n-1}) - \\frac{f\"(t_{n})}{2} (t_{n}-t_{n-1})^2 + \\dots \\\\\n",
    "&= f(t_{n}) - \\Sigma_{d=1}^{\\infty} \\frac{f^{(d)}(t_{n})}{d!} (t_{n}-t_{n-1})^d \n",
    "\\end{align}\n",
    "$"
   ]
  },
  {
   "cell_type": "markdown",
   "metadata": {},
   "source": [
    "## Second derivative at $t_n$\n",
    "\n",
    "$\n",
    "\\begin{align}\n",
    "f(t_{n+1}) &\\approx f(t_{n}) - h f'(t_{n}) - \\frac{h^2}{2} f\"(t_{n})  \\\\\n",
    "f(t_{n-1}) &\\approx f(t_{n}) - h f'(t_{n}) - \\frac{h^2}{2} f\"(t_{n})\n",
    "\\end{align}\n",
    "$\n",
    "\n",
    "Therefore, \n",
    "\n",
    "$\n",
    "\\begin{align}\n",
    "h^2 f\"(t_{n}) &\\approx f(t_{n+1}) + f(t_{n-1}) - 2 f(t_{n}) \\\\\n",
    "\\rightarrow f\"(t_{n}) &\\approx \\frac{f(t_{n+1}) + f(t_{n-1}) - 2 f(t_{n})}{h^2}\n",
    "\\end{align}\n",
    "$"
   ]
  },
  {
   "cell_type": "markdown",
   "metadata": {},
   "source": [
    "# Forward difference matrix operation\n",
    "\n",
    "For example $D^+_1$ for a vector $y$ with 4 elements can be written as the following:\n",
    "\n",
    "$\n",
    "\\begin{align}\n",
    "D^+_1 = \n",
    "\\begin{bmatrix}\n",
    "    -1& 1& 0& 0 \\\\\n",
    "     0&-1& 1& 0 \\\\\n",
    "     0& 0&-1& 1 \n",
    "\\end{bmatrix}\n",
    "\\end{align}\n",
    "$\n",
    "\n",
    "This can be extended to larger matrices. $y' = D^+_1 \\times y$"
   ]
  },
  {
   "cell_type": "markdown",
   "metadata": {},
   "source": [
    "## Fun program\n",
    "\n",
    "The derivative should be one, let's check. "
   ]
  },
  {
   "cell_type": "code",
   "execution_count": 1,
   "metadata": {},
   "outputs": [
    {
     "data": {
      "image/svg+xml": [
       "<?xml version=\"1.0\" encoding=\"utf-8\"?>\n",
       "<svg xmlns=\"http://www.w3.org/2000/svg\" xmlns:xlink=\"http://www.w3.org/1999/xlink\" width=\"600\" height=\"400\" viewBox=\"0 0 2400 1600\">\n",
       "<defs>\n",
       "  <clipPath id=\"clip730\">\n",
       "    <rect x=\"0\" y=\"0\" width=\"2400\" height=\"1600\"/>\n",
       "  </clipPath>\n",
       "</defs>\n",
       "<path clip-path=\"url(#clip730)\" d=\"\n",
       "M0 1600 L2400 1600 L2400 0 L0 0  Z\n",
       "  \" fill=\"#ffffff\" fill-rule=\"evenodd\" fill-opacity=\"1\"/>\n",
       "<defs>\n",
       "  <clipPath id=\"clip731\">\n",
       "    <rect x=\"480\" y=\"0\" width=\"1681\" height=\"1600\"/>\n",
       "  </clipPath>\n",
       "</defs>\n",
       "<path clip-path=\"url(#clip730)\" d=\"\n",
       "M172.918 1486.45 L2352.76 1486.45 L2352.76 47.2441 L172.918 47.2441  Z\n",
       "  \" fill=\"#ffffff\" fill-rule=\"evenodd\" fill-opacity=\"1\"/>\n",
       "<defs>\n",
       "  <clipPath id=\"clip732\">\n",
       "    <rect x=\"172\" y=\"47\" width=\"2181\" height=\"1440\"/>\n",
       "  </clipPath>\n",
       "</defs>\n",
       "<polyline clip-path=\"url(#clip732)\" style=\"stroke:#000000; stroke-width:2; stroke-opacity:0.1; fill:none\" points=\"\n",
       "  491.668,1486.45 491.668,47.2441 \n",
       "  \"/>\n",
       "<polyline clip-path=\"url(#clip732)\" style=\"stroke:#000000; stroke-width:2; stroke-opacity:0.1; fill:none\" points=\"\n",
       "  1005.78,1486.45 1005.78,47.2441 \n",
       "  \"/>\n",
       "<polyline clip-path=\"url(#clip732)\" style=\"stroke:#000000; stroke-width:2; stroke-opacity:0.1; fill:none\" points=\"\n",
       "  1519.89,1486.45 1519.89,47.2441 \n",
       "  \"/>\n",
       "<polyline clip-path=\"url(#clip732)\" style=\"stroke:#000000; stroke-width:2; stroke-opacity:0.1; fill:none\" points=\"\n",
       "  2034.01,1486.45 2034.01,47.2441 \n",
       "  \"/>\n",
       "<polyline clip-path=\"url(#clip730)\" style=\"stroke:#000000; stroke-width:4; stroke-opacity:1; fill:none\" points=\"\n",
       "  172.918,1486.45 2352.76,1486.45 \n",
       "  \"/>\n",
       "<polyline clip-path=\"url(#clip730)\" style=\"stroke:#000000; stroke-width:4; stroke-opacity:1; fill:none\" points=\"\n",
       "  491.668,1486.45 491.668,1469.18 \n",
       "  \"/>\n",
       "<polyline clip-path=\"url(#clip730)\" style=\"stroke:#000000; stroke-width:4; stroke-opacity:1; fill:none\" points=\"\n",
       "  1005.78,1486.45 1005.78,1469.18 \n",
       "  \"/>\n",
       "<polyline clip-path=\"url(#clip730)\" style=\"stroke:#000000; stroke-width:4; stroke-opacity:1; fill:none\" points=\"\n",
       "  1519.89,1486.45 1519.89,1469.18 \n",
       "  \"/>\n",
       "<polyline clip-path=\"url(#clip730)\" style=\"stroke:#000000; stroke-width:4; stroke-opacity:1; fill:none\" points=\"\n",
       "  2034.01,1486.45 2034.01,1469.18 \n",
       "  \"/>\n",
       "<path clip-path=\"url(#clip730)\" d=\"M 0 0 M486.32 1543.18 L502.64 1543.18 L502.64 1547.12 L480.695 1547.12 L480.695 1543.18 Q483.357 1540.43 487.941 1535.8 Q492.547 1531.15 493.728 1529.81 Q495.973 1527.28 496.853 1525.55 Q497.755 1523.79 497.755 1522.1 Q497.755 1519.34 495.811 1517.61 Q493.89 1515.87 490.788 1515.87 Q488.589 1515.87 486.135 1516.63 Q483.705 1517.4 480.927 1518.95 L480.927 1514.23 Q483.751 1513.09 486.205 1512.51 Q488.658 1511.93 490.695 1511.93 Q496.066 1511.93 499.26 1514.62 Q502.455 1517.31 502.455 1521.8 Q502.455 1523.93 501.644 1525.85 Q500.857 1527.74 498.751 1530.34 Q498.172 1531.01 495.07 1534.23 Q491.968 1537.42 486.32 1543.18 Z\" fill=\"#000000\" fill-rule=\"evenodd\" fill-opacity=\"1\" /><path clip-path=\"url(#clip730)\" d=\"M 0 0 M1008.79 1516.63 L996.984 1535.08 L1008.79 1535.08 L1008.79 1516.63 M1007.56 1512.56 L1013.44 1512.56 L1013.44 1535.08 L1018.37 1535.08 L1018.37 1538.97 L1013.44 1538.97 L1013.44 1547.12 L1008.79 1547.12 L1008.79 1538.97 L993.188 1538.97 L993.188 1534.46 L1007.56 1512.56 Z\" fill=\"#000000\" fill-rule=\"evenodd\" fill-opacity=\"1\" /><path clip-path=\"url(#clip730)\" d=\"M 0 0 M1520.3 1527.98 Q1517.15 1527.98 1515.3 1530.13 Q1513.47 1532.28 1513.47 1536.03 Q1513.47 1539.76 1515.3 1541.93 Q1517.15 1544.09 1520.3 1544.09 Q1523.45 1544.09 1525.28 1541.93 Q1527.13 1539.76 1527.13 1536.03 Q1527.13 1532.28 1525.28 1530.13 Q1523.45 1527.98 1520.3 1527.98 M1529.58 1513.32 L1529.58 1517.58 Q1527.82 1516.75 1526.02 1516.31 Q1524.23 1515.87 1522.47 1515.87 Q1517.84 1515.87 1515.39 1519 Q1512.96 1522.12 1512.61 1528.44 Q1513.98 1526.43 1516.04 1525.36 Q1518.1 1524.27 1520.58 1524.27 Q1525.78 1524.27 1528.79 1527.44 Q1531.83 1530.59 1531.83 1536.03 Q1531.83 1541.36 1528.68 1544.57 Q1525.53 1547.79 1520.3 1547.79 Q1514.3 1547.79 1511.13 1543.21 Q1507.96 1538.6 1507.96 1529.87 Q1507.96 1521.68 1511.85 1516.82 Q1515.74 1511.93 1522.29 1511.93 Q1524.05 1511.93 1525.83 1512.28 Q1527.64 1512.63 1529.58 1513.32 Z\" fill=\"#000000\" fill-rule=\"evenodd\" fill-opacity=\"1\" /><path clip-path=\"url(#clip730)\" d=\"M 0 0 M2034.01 1530.71 Q2030.67 1530.71 2028.75 1532.49 Q2026.85 1534.27 2026.85 1537.4 Q2026.85 1540.52 2028.75 1542.31 Q2030.67 1544.09 2034.01 1544.09 Q2037.34 1544.09 2039.26 1542.31 Q2041.18 1540.5 2041.18 1537.4 Q2041.18 1534.27 2039.26 1532.49 Q2037.36 1530.71 2034.01 1530.71 M2029.33 1528.72 Q2026.32 1527.98 2024.63 1525.92 Q2022.96 1523.86 2022.96 1520.89 Q2022.96 1516.75 2025.9 1514.34 Q2028.87 1511.93 2034.01 1511.93 Q2039.17 1511.93 2042.11 1514.34 Q2045.05 1516.75 2045.05 1520.89 Q2045.05 1523.86 2043.36 1525.92 Q2041.69 1527.98 2038.71 1528.72 Q2042.08 1529.5 2043.96 1531.8 Q2045.86 1534.09 2045.86 1537.4 Q2045.86 1542.42 2042.78 1545.11 Q2039.72 1547.79 2034.01 1547.79 Q2028.29 1547.79 2025.21 1545.11 Q2022.15 1542.42 2022.15 1537.4 Q2022.15 1534.09 2024.05 1531.8 Q2025.95 1529.5 2029.33 1528.72 M2027.62 1521.33 Q2027.62 1524.02 2029.28 1525.52 Q2030.97 1527.03 2034.01 1527.03 Q2037.02 1527.03 2038.71 1525.52 Q2040.42 1524.02 2040.42 1521.33 Q2040.42 1518.65 2038.71 1517.14 Q2037.02 1515.64 2034.01 1515.64 Q2030.97 1515.64 2029.28 1517.14 Q2027.62 1518.65 2027.62 1521.33 Z\" fill=\"#000000\" fill-rule=\"evenodd\" fill-opacity=\"1\" /><polyline clip-path=\"url(#clip732)\" style=\"stroke:#000000; stroke-width:2; stroke-opacity:0.1; fill:none\" points=\"\n",
       "  172.918,1445.72 2352.76,1445.72 \n",
       "  \"/>\n",
       "<polyline clip-path=\"url(#clip732)\" style=\"stroke:#000000; stroke-width:2; stroke-opacity:0.1; fill:none\" points=\"\n",
       "  172.918,1106.28 2352.76,1106.28 \n",
       "  \"/>\n",
       "<polyline clip-path=\"url(#clip732)\" style=\"stroke:#000000; stroke-width:2; stroke-opacity:0.1; fill:none\" points=\"\n",
       "  172.918,766.846 2352.76,766.846 \n",
       "  \"/>\n",
       "<polyline clip-path=\"url(#clip732)\" style=\"stroke:#000000; stroke-width:2; stroke-opacity:0.1; fill:none\" points=\"\n",
       "  172.918,427.411 2352.76,427.411 \n",
       "  \"/>\n",
       "<polyline clip-path=\"url(#clip732)\" style=\"stroke:#000000; stroke-width:2; stroke-opacity:0.1; fill:none\" points=\"\n",
       "  172.918,87.9763 2352.76,87.9763 \n",
       "  \"/>\n",
       "<polyline clip-path=\"url(#clip730)\" style=\"stroke:#000000; stroke-width:4; stroke-opacity:1; fill:none\" points=\"\n",
       "  172.918,1486.45 172.918,47.2441 \n",
       "  \"/>\n",
       "<polyline clip-path=\"url(#clip730)\" style=\"stroke:#000000; stroke-width:4; stroke-opacity:1; fill:none\" points=\"\n",
       "  172.918,1445.72 199.076,1445.72 \n",
       "  \"/>\n",
       "<polyline clip-path=\"url(#clip730)\" style=\"stroke:#000000; stroke-width:4; stroke-opacity:1; fill:none\" points=\"\n",
       "  172.918,1106.28 199.076,1106.28 \n",
       "  \"/>\n",
       "<polyline clip-path=\"url(#clip730)\" style=\"stroke:#000000; stroke-width:4; stroke-opacity:1; fill:none\" points=\"\n",
       "  172.918,766.846 199.076,766.846 \n",
       "  \"/>\n",
       "<polyline clip-path=\"url(#clip730)\" style=\"stroke:#000000; stroke-width:4; stroke-opacity:1; fill:none\" points=\"\n",
       "  172.918,427.411 199.076,427.411 \n",
       "  \"/>\n",
       "<polyline clip-path=\"url(#clip730)\" style=\"stroke:#000000; stroke-width:4; stroke-opacity:1; fill:none\" points=\"\n",
       "  172.918,87.9763 199.076,87.9763 \n",
       "  \"/>\n",
       "<path clip-path=\"url(#clip730)\" d=\"M 0 0 M53.0292 1459.06 L60.668 1459.06 L60.668 1432.69 L52.3579 1434.36 L52.3579 1430.1 L60.6217 1428.44 L65.2976 1428.44 L65.2976 1459.06 L72.9365 1459.06 L72.9365 1463 L53.0292 1463 L53.0292 1459.06 Z\" fill=\"#000000\" fill-rule=\"evenodd\" fill-opacity=\"1\" /><path clip-path=\"url(#clip730)\" d=\"M 0 0 M78.0059 1457.12 L82.8901 1457.12 L82.8901 1463 L78.0059 1463 L78.0059 1457.12 Z\" fill=\"#000000\" fill-rule=\"evenodd\" fill-opacity=\"1\" /><path clip-path=\"url(#clip730)\" d=\"M 0 0 M97.9595 1431.51 Q94.3484 1431.51 92.5197 1435.08 Q90.7141 1438.62 90.7141 1445.75 Q90.7141 1452.86 92.5197 1456.42 Q94.3484 1459.96 97.9595 1459.96 Q101.594 1459.96 103.399 1456.42 Q105.228 1452.86 105.228 1445.75 Q105.228 1438.62 103.399 1435.08 Q101.594 1431.51 97.9595 1431.51 M97.9595 1427.81 Q103.77 1427.81 106.825 1432.42 Q109.904 1437 109.904 1445.75 Q109.904 1454.48 106.825 1459.08 Q103.77 1463.67 97.9595 1463.67 Q92.1493 1463.67 89.0706 1459.08 Q86.0151 1454.48 86.0151 1445.75 Q86.0151 1437 89.0706 1432.42 Q92.1493 1427.81 97.9595 1427.81 Z\" fill=\"#000000\" fill-rule=\"evenodd\" fill-opacity=\"1\" /><path clip-path=\"url(#clip730)\" d=\"M 0 0 M124.973 1431.51 Q121.362 1431.51 119.533 1435.08 Q117.728 1438.62 117.728 1445.75 Q117.728 1452.86 119.533 1456.42 Q121.362 1459.96 124.973 1459.96 Q128.607 1459.96 130.413 1456.42 Q132.242 1452.86 132.242 1445.75 Q132.242 1438.62 130.413 1435.08 Q128.607 1431.51 124.973 1431.51 M124.973 1427.81 Q130.783 1427.81 133.839 1432.42 Q136.918 1437 136.918 1445.75 Q136.918 1454.48 133.839 1459.08 Q130.783 1463.67 124.973 1463.67 Q119.163 1463.67 116.084 1459.08 Q113.029 1454.48 113.029 1445.75 Q113.029 1437 116.084 1432.42 Q119.163 1427.81 124.973 1427.81 Z\" fill=\"#000000\" fill-rule=\"evenodd\" fill-opacity=\"1\" /><path clip-path=\"url(#clip730)\" d=\"M 0 0 M55.6217 1119.63 L63.2606 1119.63 L63.2606 1093.26 L54.9504 1094.93 L54.9504 1090.67 L63.2143 1089 L67.8902 1089 L67.8902 1119.63 L75.529 1119.63 L75.529 1123.56 L55.6217 1123.56 L55.6217 1119.63 Z\" fill=\"#000000\" fill-rule=\"evenodd\" fill-opacity=\"1\" /><path clip-path=\"url(#clip730)\" d=\"M 0 0 M80.5984 1117.68 L85.4827 1117.68 L85.4827 1123.56 L80.5984 1123.56 L80.5984 1117.68 Z\" fill=\"#000000\" fill-rule=\"evenodd\" fill-opacity=\"1\" /><path clip-path=\"url(#clip730)\" d=\"M 0 0 M94.5799 1119.63 L110.899 1119.63 L110.899 1123.56 L88.9549 1123.56 L88.9549 1119.63 Q91.6169 1116.87 96.2002 1112.24 Q100.807 1107.59 101.987 1106.25 Q104.233 1103.72 105.112 1101.99 Q106.015 1100.23 106.015 1098.54 Q106.015 1095.78 104.071 1094.05 Q102.149 1092.31 99.0474 1092.31 Q96.8484 1092.31 94.3947 1093.07 Q91.9641 1093.84 89.1864 1095.39 L89.1864 1090.67 Q92.0104 1089.53 94.4641 1088.95 Q96.9178 1088.38 98.9548 1088.38 Q104.325 1088.38 107.52 1091.06 Q110.714 1093.75 110.714 1098.24 Q110.714 1100.37 109.904 1102.29 Q109.117 1104.19 107.01 1106.78 Q106.432 1107.45 103.33 1110.67 Q100.228 1113.86 94.5799 1119.63 Z\" fill=\"#000000\" fill-rule=\"evenodd\" fill-opacity=\"1\" /><path clip-path=\"url(#clip730)\" d=\"M 0 0 M116.015 1089 L134.371 1089 L134.371 1092.94 L120.297 1092.94 L120.297 1101.41 Q121.316 1101.06 122.334 1100.9 Q123.353 1100.71 124.371 1100.71 Q130.158 1100.71 133.538 1103.89 Q136.918 1107.06 136.918 1112.47 Q136.918 1118.05 133.445 1121.15 Q129.973 1124.23 123.654 1124.23 Q121.478 1124.23 119.209 1123.86 Q116.964 1123.49 114.557 1122.75 L114.557 1118.05 Q116.64 1119.19 118.862 1119.74 Q121.084 1120.3 123.561 1120.3 Q127.566 1120.3 129.904 1118.19 Q132.242 1116.08 132.242 1112.47 Q132.242 1108.86 129.904 1106.76 Q127.566 1104.65 123.561 1104.65 Q121.686 1104.65 119.811 1105.07 Q117.959 1105.48 116.015 1106.36 L116.015 1089 Z\" fill=\"#000000\" fill-rule=\"evenodd\" fill-opacity=\"1\" /><path clip-path=\"url(#clip730)\" d=\"M 0 0 M54.0245 780.191 L61.6634 780.191 L61.6634 753.825 L53.3532 755.492 L53.3532 751.233 L61.6171 749.566 L66.293 749.566 L66.293 780.191 L73.9318 780.191 L73.9318 784.126 L54.0245 784.126 L54.0245 780.191 Z\" fill=\"#000000\" fill-rule=\"evenodd\" fill-opacity=\"1\" /><path clip-path=\"url(#clip730)\" d=\"M 0 0 M79.0012 778.246 L83.8855 778.246 L83.8855 784.126 L79.0012 784.126 L79.0012 778.246 Z\" fill=\"#000000\" fill-rule=\"evenodd\" fill-opacity=\"1\" /><path clip-path=\"url(#clip730)\" d=\"M 0 0 M89.0012 749.566 L107.358 749.566 L107.358 753.501 L93.2836 753.501 L93.2836 761.973 Q94.3021 761.626 95.3206 761.464 Q96.3391 761.279 97.3576 761.279 Q103.145 761.279 106.524 764.45 Q109.904 767.621 109.904 773.038 Q109.904 778.617 106.432 781.719 Q102.959 784.797 96.64 784.797 Q94.4641 784.797 92.1956 784.427 Q89.9503 784.057 87.5429 783.316 L87.5429 778.617 Q89.6262 779.751 91.8484 780.307 Q94.0706 780.862 96.5474 780.862 Q100.552 780.862 102.89 778.756 Q105.228 776.649 105.228 773.038 Q105.228 769.427 102.89 767.321 Q100.552 765.214 96.5474 765.214 Q94.6724 765.214 92.7975 765.631 Q90.9456 766.047 89.0012 766.927 L89.0012 749.566 Z\" fill=\"#000000\" fill-rule=\"evenodd\" fill-opacity=\"1\" /><path clip-path=\"url(#clip730)\" d=\"M 0 0 M124.973 752.645 Q121.362 752.645 119.533 756.209 Q117.728 759.751 117.728 766.881 Q117.728 773.987 119.533 777.552 Q121.362 781.094 124.973 781.094 Q128.607 781.094 130.413 777.552 Q132.242 773.987 132.242 766.881 Q132.242 759.751 130.413 756.209 Q128.607 752.645 124.973 752.645 M124.973 748.941 Q130.783 748.941 133.839 753.547 Q136.918 758.131 136.918 766.881 Q136.918 775.608 133.839 780.214 Q130.783 784.797 124.973 784.797 Q119.163 784.797 116.084 780.214 Q113.029 775.608 113.029 766.881 Q113.029 758.131 116.084 753.547 Q119.163 748.941 124.973 748.941 Z\" fill=\"#000000\" fill-rule=\"evenodd\" fill-opacity=\"1\" /><path clip-path=\"url(#clip730)\" d=\"M 0 0 M54.9273 440.756 L62.5661 440.756 L62.5661 414.39 L54.256 416.057 L54.256 411.798 L62.5198 410.131 L67.1957 410.131 L67.1957 440.756 L74.8346 440.756 L74.8346 444.691 L54.9273 444.691 L54.9273 440.756 Z\" fill=\"#000000\" fill-rule=\"evenodd\" fill-opacity=\"1\" /><path clip-path=\"url(#clip730)\" d=\"M 0 0 M79.904 438.812 L84.7882 438.812 L84.7882 444.691 L79.904 444.691 L79.904 438.812 Z\" fill=\"#000000\" fill-rule=\"evenodd\" fill-opacity=\"1\" /><path clip-path=\"url(#clip730)\" d=\"M 0 0 M88.6771 410.131 L110.899 410.131 L110.899 412.122 L98.353 444.691 L93.4688 444.691 L105.274 414.066 L88.6771 414.066 L88.6771 410.131 Z\" fill=\"#000000\" fill-rule=\"evenodd\" fill-opacity=\"1\" /><path clip-path=\"url(#clip730)\" d=\"M 0 0 M116.015 410.131 L134.371 410.131 L134.371 414.066 L120.297 414.066 L120.297 422.538 Q121.316 422.191 122.334 422.029 Q123.353 421.844 124.371 421.844 Q130.158 421.844 133.538 425.015 Q136.918 428.187 136.918 433.603 Q136.918 439.182 133.445 442.284 Q129.973 445.362 123.654 445.362 Q121.478 445.362 119.209 444.992 Q116.964 444.622 114.557 443.881 L114.557 439.182 Q116.64 440.316 118.862 440.872 Q121.084 441.427 123.561 441.427 Q127.566 441.427 129.904 439.321 Q132.242 437.214 132.242 433.603 Q132.242 429.992 129.904 427.886 Q127.566 425.779 123.561 425.779 Q121.686 425.779 119.811 426.196 Q117.959 426.613 116.015 427.492 L116.015 410.131 Z\" fill=\"#000000\" fill-rule=\"evenodd\" fill-opacity=\"1\" /><path clip-path=\"url(#clip730)\" d=\"M 0 0 M56.6171 101.321 L72.9365 101.321 L72.9365 105.256 L50.9921 105.256 L50.9921 101.321 Q53.6541 98.5665 58.2375 93.9369 Q62.8439 89.2841 64.0245 87.9416 Q66.2698 85.4184 67.1494 83.6823 Q68.0522 81.9231 68.0522 80.2333 Q68.0522 77.4786 66.1078 75.7425 Q64.1865 74.0064 61.0847 74.0064 Q58.8856 74.0064 56.4319 74.7703 Q54.0014 75.5342 51.2236 77.0851 L51.2236 72.3629 Q54.0477 71.2287 56.5014 70.65 Q58.955 70.0713 60.9921 70.0713 Q66.3624 70.0713 69.5568 72.7565 Q72.7513 75.4416 72.7513 79.9323 Q72.7513 82.062 71.9411 83.9832 Q71.1541 85.8814 69.0476 88.474 Q68.4689 89.1453 65.367 92.3628 Q62.2652 95.5573 56.6171 101.321 Z\" fill=\"#000000\" fill-rule=\"evenodd\" fill-opacity=\"1\" /><path clip-path=\"url(#clip730)\" d=\"M 0 0 M78.0059 99.3767 L82.8901 99.3767 L82.8901 105.256 L78.0059 105.256 L78.0059 99.3767 Z\" fill=\"#000000\" fill-rule=\"evenodd\" fill-opacity=\"1\" /><path clip-path=\"url(#clip730)\" d=\"M 0 0 M97.9595 73.775 Q94.3484 73.775 92.5197 77.3398 Q90.7141 80.8814 90.7141 88.011 Q90.7141 95.1174 92.5197 98.6822 Q94.3484 102.224 97.9595 102.224 Q101.594 102.224 103.399 98.6822 Q105.228 95.1174 105.228 88.011 Q105.228 80.8814 103.399 77.3398 Q101.594 73.775 97.9595 73.775 M97.9595 70.0713 Q103.77 70.0713 106.825 74.6777 Q109.904 79.261 109.904 88.011 Q109.904 96.7378 106.825 101.344 Q103.77 105.928 97.9595 105.928 Q92.1493 105.928 89.0706 101.344 Q86.0151 96.7378 86.0151 88.011 Q86.0151 79.261 89.0706 74.6777 Q92.1493 70.0713 97.9595 70.0713 Z\" fill=\"#000000\" fill-rule=\"evenodd\" fill-opacity=\"1\" /><path clip-path=\"url(#clip730)\" d=\"M 0 0 M124.973 73.775 Q121.362 73.775 119.533 77.3398 Q117.728 80.8814 117.728 88.011 Q117.728 95.1174 119.533 98.6822 Q121.362 102.224 124.973 102.224 Q128.607 102.224 130.413 98.6822 Q132.242 95.1174 132.242 88.011 Q132.242 80.8814 130.413 77.3398 Q128.607 73.775 124.973 73.775 M124.973 70.0713 Q130.783 70.0713 133.839 74.6777 Q136.918 79.261 136.918 88.011 Q136.918 96.7378 133.839 101.344 Q130.783 105.928 124.973 105.928 Q119.163 105.928 116.084 101.344 Q113.029 96.7378 113.029 88.011 Q113.029 79.261 116.084 74.6777 Q119.163 70.0713 124.973 70.0713 Z\" fill=\"#000000\" fill-rule=\"evenodd\" fill-opacity=\"1\" /><circle clip-path=\"url(#clip732)\" cx=\"234.611\" cy=\"1445.72\" r=\"14\" fill=\"#009af9\" fill-rule=\"evenodd\" fill-opacity=\"1\" stroke=\"#000000\" stroke-opacity=\"1\" stroke-width=\"3.2\"/>\n",
       "<circle clip-path=\"url(#clip732)\" cx=\"491.668\" cy=\"1445.72\" r=\"14\" fill=\"#009af9\" fill-rule=\"evenodd\" fill-opacity=\"1\" stroke=\"#000000\" stroke-opacity=\"1\" stroke-width=\"3.2\"/>\n",
       "<circle clip-path=\"url(#clip732)\" cx=\"748.724\" cy=\"1445.72\" r=\"14\" fill=\"#009af9\" fill-rule=\"evenodd\" fill-opacity=\"1\" stroke=\"#000000\" stroke-opacity=\"1\" stroke-width=\"3.2\"/>\n",
       "<circle clip-path=\"url(#clip732)\" cx=\"1005.78\" cy=\"1445.72\" r=\"14\" fill=\"#009af9\" fill-rule=\"evenodd\" fill-opacity=\"1\" stroke=\"#000000\" stroke-opacity=\"1\" stroke-width=\"3.2\"/>\n",
       "<circle clip-path=\"url(#clip732)\" cx=\"1262.84\" cy=\"1445.72\" r=\"14\" fill=\"#009af9\" fill-rule=\"evenodd\" fill-opacity=\"1\" stroke=\"#000000\" stroke-opacity=\"1\" stroke-width=\"3.2\"/>\n",
       "<circle clip-path=\"url(#clip732)\" cx=\"1519.89\" cy=\"1445.72\" r=\"14\" fill=\"#009af9\" fill-rule=\"evenodd\" fill-opacity=\"1\" stroke=\"#000000\" stroke-opacity=\"1\" stroke-width=\"3.2\"/>\n",
       "<circle clip-path=\"url(#clip732)\" cx=\"1776.95\" cy=\"1445.72\" r=\"14\" fill=\"#009af9\" fill-rule=\"evenodd\" fill-opacity=\"1\" stroke=\"#000000\" stroke-opacity=\"1\" stroke-width=\"3.2\"/>\n",
       "<circle clip-path=\"url(#clip732)\" cx=\"2034.01\" cy=\"1445.72\" r=\"14\" fill=\"#009af9\" fill-rule=\"evenodd\" fill-opacity=\"1\" stroke=\"#000000\" stroke-opacity=\"1\" stroke-width=\"3.2\"/>\n",
       "<circle clip-path=\"url(#clip732)\" cx=\"2291.06\" cy=\"1445.72\" r=\"14\" fill=\"#009af9\" fill-rule=\"evenodd\" fill-opacity=\"1\" stroke=\"#000000\" stroke-opacity=\"1\" stroke-width=\"3.2\"/>\n",
       "<path clip-path=\"url(#clip730)\" d=\"\n",
       "M2004.16 216.178 L2280.09 216.178 L2280.09 95.2176 L2004.16 95.2176  Z\n",
       "  \" fill=\"#ffffff\" fill-rule=\"evenodd\" fill-opacity=\"1\"/>\n",
       "<polyline clip-path=\"url(#clip730)\" style=\"stroke:#000000; stroke-width:4; stroke-opacity:1; fill:none\" points=\"\n",
       "  2004.16,216.178 2280.09,216.178 2280.09,95.2176 2004.16,95.2176 2004.16,216.178 \n",
       "  \"/>\n",
       "<circle clip-path=\"url(#clip730)\" cx=\"2101.05\" cy=\"155.698\" r=\"23\" fill=\"#009af9\" fill-rule=\"evenodd\" fill-opacity=\"1\" stroke=\"#000000\" stroke-opacity=\"1\" stroke-width=\"5.12\"/>\n",
       "<path clip-path=\"url(#clip730)\" d=\"M 0 0 M2211.77 175.385 Q2209.96 180.015 2208.25 181.427 Q2206.54 182.839 2203.67 182.839 L2200.27 182.839 L2200.27 179.274 L2202.77 179.274 Q2204.52 179.274 2205.5 178.44 Q2206.47 177.607 2207.65 174.505 L2208.41 172.561 L2197.93 147.052 L2202.44 147.052 L2210.54 167.329 L2218.64 147.052 L2223.16 147.052 L2211.77 175.385 Z\" fill=\"#000000\" fill-rule=\"evenodd\" fill-opacity=\"1\" /><path clip-path=\"url(#clip730)\" d=\"M 0 0 M2231.65 138.418 L2231.65 151.265 L2227.72 151.265 L2227.72 138.418 L2231.65 138.418 Z\" fill=\"#000000\" fill-rule=\"evenodd\" fill-opacity=\"1\" /></svg>\n"
      ]
     },
     "execution_count": 1,
     "metadata": {},
     "output_type": "execute_result"
    }
   ],
   "source": [
    "using Plots\n",
    "\n",
    "y = collect(1:10)\n",
    "D = zeros(9,10)\n",
    "for i=1:9\n",
    "    D[i,i]  = -1\n",
    "    D[i,i+1] = 1\n",
    "end\n",
    "\n",
    "scatter(D*y, label=\"y'\")"
   ]
  },
  {
   "cell_type": "markdown",
   "metadata": {},
   "source": [
    "# Backward difference\n",
    "\n",
    "For example $D_1^-$ for a vector $y$ with 4 elements can be written as the following:\n",
    "\n",
    "$\n",
    "\\begin{align}\n",
    "D^-_1 = \n",
    "\\begin{bmatrix}\n",
    "     1&-1& 0& 0 \\\\\n",
    "     0& 1&-1& 0 \\\\\n",
    "     0& 0& 1&-1 \n",
    "\\end{bmatrix}\n",
    "\\end{align}\n",
    "$\n",
    "\n",
    "This can be extended to larger matrices. $y' = D^-_1 \\times y$"
   ]
  },
  {
   "cell_type": "markdown",
   "metadata": {},
   "source": [
    "# Second derivative\n",
    "\n",
    "For example $D_2$ for a vector $y$ with 4 elements can be written as the following:\n",
    "\n",
    "$\n",
    "\\begin{align}\n",
    "D_2 = \n",
    "\\begin{bmatrix}\n",
    "     1&-2& 1& 0 \\\\\n",
    "     0& 1&-2& 1 \n",
    "\\end{bmatrix}\n",
    "\\end{align}\n",
    "$\n",
    "\n",
    "This can be extended to larger matrices. $y\" = D_2 \\times y$"
   ]
  },
  {
   "cell_type": "markdown",
   "metadata": {},
   "source": [
    "## Fun program\n",
    "\n",
    "This is the same as second derivative! "
   ]
  },
  {
   "cell_type": "code",
   "execution_count": 2,
   "metadata": {},
   "outputs": [
    {
     "data": {
      "text/plain": [
       "9×9 Array{Float64,2}:\n",
       " -2.0   1.0   0.0   0.0   0.0   0.0   0.0   0.0   0.0\n",
       "  1.0  -2.0   1.0   0.0   0.0   0.0   0.0   0.0   0.0\n",
       "  0.0   1.0  -2.0   1.0   0.0   0.0   0.0   0.0   0.0\n",
       "  0.0   0.0   1.0  -2.0   1.0   0.0   0.0   0.0   0.0\n",
       "  0.0   0.0   0.0   1.0  -2.0   1.0   0.0   0.0   0.0\n",
       "  0.0   0.0   0.0   0.0   1.0  -2.0   1.0   0.0   0.0\n",
       "  0.0   0.0   0.0   0.0   0.0   1.0  -2.0   1.0   0.0\n",
       "  0.0   0.0   0.0   0.0   0.0   0.0   1.0  -2.0   1.0\n",
       "  0.0   0.0   0.0   0.0   0.0   0.0   0.0   1.0  -2.0"
      ]
     },
     "execution_count": 2,
     "metadata": {},
     "output_type": "execute_result"
    }
   ],
   "source": [
    "using Plots\n",
    "\n",
    "D⁺ = zeros(9,10)        \n",
    "for i=1:9\n",
    "    D⁺[i,i]  = -1\n",
    "    D⁺[i,i+1] = 1\n",
    "end\n",
    "D⁻ = -D⁺\n",
    "\n",
    "D⁻*D⁺'"
   ]
  },
  {
   "cell_type": "markdown",
   "metadata": {},
   "source": [
    "## Adjourn"
   ]
  },
  {
   "cell_type": "code",
   "execution_count": 3,
   "metadata": {},
   "outputs": [
    {
     "name": "stdout",
     "output_type": "stream",
     "text": [
      "mahdiar\n"
     ]
    },
    {
     "data": {
      "text/plain": [
       "\"2021/February/25 13:12\""
      ]
     },
     "execution_count": 3,
     "metadata": {},
     "output_type": "execute_result"
    }
   ],
   "source": [
    "using Dates\n",
    "println(\"mahdiar\")\n",
    "Dates.format(now(), \"Y/U/d HH:MM\")  "
   ]
  }
 ],
 "metadata": {
  "kernelspec": {
   "display_name": "Julia 1.5.3",
   "language": "julia",
   "name": "julia-1.5"
  },
  "language_info": {
   "file_extension": ".jl",
   "mimetype": "application/julia",
   "name": "julia",
   "version": "1.5.3"
  }
 },
 "nbformat": 4,
 "nbformat_minor": 4
}
