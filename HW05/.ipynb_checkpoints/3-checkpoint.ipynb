{
 "cells": [
  {
   "cell_type": "markdown",
   "metadata": {},
   "source": [
    "# A-orthogonalization Process"
   ]
  },
  {
   "cell_type": "markdown",
   "metadata": {},
   "source": [
    "$\n",
    "\\begin{align}\n",
    "d_1 . d_2 &= u_1 . (u_2 - \\beta_{21} u_1) \\\\\n",
    "&= u_1 . (u_2 - \\frac{u_2^T A u_1}{u_1^T A u_1} u_1) \\\\\n",
    "&= 0\n",
    "\\end{align}\n",
    "$"
   ]
  },
  {
   "cell_type": "code",
   "execution_count": 152,
   "metadata": {},
   "outputs": [
    {
     "data": {
      "text/plain": [
       "GramSchmidt (generic function with 1 method)"
      ]
     },
     "execution_count": 152,
     "metadata": {},
     "output_type": "execute_result"
    }
   ],
   "source": [
    "using LinearAlgebra\n",
    "\n",
    "function GramSchmidt(A)\n",
    "    D = A\n",
    "    for i = 2:size(A,2)\n",
    "        for j=1:(i-1)\n",
    "            α = D[:,j]' * A * D[:,j]\n",
    "            β = A[:,i]' * A * D[:,j] \n",
    "            D[:,i] -= D[:,j]*β/α\n",
    "        end\n",
    "    end\n",
    "    return D\n",
    "end"
   ]
  },
  {
   "cell_type": "markdown",
   "metadata": {},
   "source": [
    "# Test"
   ]
  },
  {
   "cell_type": "code",
   "execution_count": 159,
   "metadata": {},
   "outputs": [
    {
     "data": {
      "text/plain": [
       "3×3 Array{Float64,2}:\n",
       " 1.58094   0.253583  0.852915\n",
       " 0.253583  1.33484   0.323033\n",
       " 0.852915  0.323033  1.63285"
      ]
     },
     "execution_count": 159,
     "metadata": {},
     "output_type": "execute_result"
    }
   ],
   "source": [
    "# SPD matrix\n",
    "function spd(n)\n",
    "    A = rand(n,n)\n",
    "    vec,val = eigen(A)\n",
    "    A = (A+A')/2\n",
    "    A -= val[1]*I\n",
    "end\n",
    "\n",
    "A = spd(3)"
   ]
  },
  {
   "cell_type": "code",
   "execution_count": 160,
   "metadata": {},
   "outputs": [
    {
     "data": {
      "text/plain": [
       "(-5171.217791884284, 3.452288961951408e14, -7.008827414932269e16)"
      ]
     },
     "execution_count": 160,
     "metadata": {},
     "output_type": "execute_result"
    }
   ],
   "source": [
    "GramSchmidt(A)\n",
    "\n",
    "res = D[:,1]'*A*D[:,2], D[:,1]'*A*D[:,3], D[:,2]'*A*D[:,3]"
   ]
  },
  {
   "cell_type": "markdown",
   "metadata": {},
   "source": [
    "## Adjourn"
   ]
  },
  {
   "cell_type": "code",
   "execution_count": 3,
   "metadata": {},
   "outputs": [
    {
     "name": "stdout",
     "output_type": "stream",
     "text": [
      "mahdiar\n"
     ]
    },
    {
     "data": {
      "text/plain": [
       "\"2021/February/19 14:39\""
      ]
     },
     "execution_count": 3,
     "metadata": {},
     "output_type": "execute_result"
    }
   ],
   "source": [
    "using Dates\n",
    "println(\"mahdiar\")\n",
    "Dates.format(now(), \"Y/U/d HH:MM\")  "
   ]
  }
 ],
 "metadata": {
  "kernelspec": {
   "display_name": "Julia 1.5.3",
   "language": "julia",
   "name": "julia-1.5"
  },
  "language_info": {
   "file_extension": ".jl",
   "mimetype": "application/julia",
   "name": "julia",
   "version": "1.5.3"
  }
 },
 "nbformat": 4,
 "nbformat_minor": 4
}
