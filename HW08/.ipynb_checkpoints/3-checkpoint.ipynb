{
 "cells": [
  {
   "cell_type": "markdown",
   "metadata": {},
   "source": [
    "# GPS"
   ]
  },
  {
   "cell_type": "markdown",
   "metadata": {},
   "source": [
    "Based on D. Kalman's method, I expand the four constraint equations as following:\n",
    "\n",
    "$\n",
    "\\begin{align}\n",
    "2.4x + 4.6y + 0.4z - 2(0.047^2)9.9999 t &= 1.2^2 + 2.3^2 + 0.2^2 + x^2 + y^2 + z^2 - 0.047^2 t^2 \\\\\n",
    "-1x + 3y + 3.6z - 2(0.047^2)13.0681 t &= 0.5^2 + 1.5^2 + 1.8^2 +  x^2 + y^2 + z^2 - 0.047^2 t^2 \\\\\n",
    "-3.4x + 1.6y + 2.6z - 2(0.047^2)2.0251 t &= 1.7^2 + 0.8^2 + 1.3^2 +  x^2 + y^2 + z^2 - 0.047^2 t^2 \\\\\n",
    "3.4x + 2.8y - 1z - 2(0.047^2)10.5317 t &= 1.7^2 + 1.4^2 + 0.5^2 +  x^2 + y^2 + z^2 - 0.047^2 t^2 \n",
    "\\end{align},\n",
    "$"
   ]
  },
  {
   "cell_type": "markdown",
   "metadata": {},
   "source": [
    "And subtract the first equation from the rest.\n",
    "\n",
    "$\n",
    "\\begin{align}\n",
    "-3.4x - 1.6y + 3.2z - 2(0.047^2)3.0682 t &= -1.0299  \\\\\n",
    "-5.8x - 3y + 2.2z + 2(0.047^2)7.9750 t &= -1.5499  \\\\\n",
    "1x    - 1.8y - 1.4z - 2(0.047^2)0.5318 t &= -1.6699\n",
    "\\end{align},\n",
    "$"
   ]
  },
  {
   "cell_type": "markdown",
   "metadata": {},
   "source": [
    "Converting it to matrix format as following:\n",
    "\n",
    "$\n",
    "\\begin{equation}\n",
    "\\begin{bmatrix}\n",
    "-3.4 & 1.6 & 3.2 & -0.01355  \\\\\n",
    "-5.8 & -3   & 2.2 & 0.0352   \\\\\n",
    "1    & -1.8 & -1.4 & -0.00235 \n",
    "\\end{bmatrix}\n",
    "\\begin{bmatrix}\n",
    "x \\\\ y \\\\ z \\\\ t\n",
    "\\end{bmatrix}\n",
    "=\n",
    "\\begin{bmatrix}\n",
    "-1.0299 \\\\ -1.5499 \\\\ -1.6699\n",
    "\\end{bmatrix}\n",
    "\\end{equation}.\n",
    "$"
   ]
  },
  {
   "cell_type": "markdown",
   "metadata": {},
   "source": [
    "# Newton's Method\n",
    "\n",
    "For having $f(x)=0$, based on state variables $x=(x, y, z, t)$ we can convert the nonlinear distance equation as following:\n",
    "\n",
    "$\n",
    "\\begin{equation}\n",
    "f(x) = \\frac{1}{2}\n",
    "\\begin{bmatrix}\n",
    "(x-1.2)^2+(y-2.3)^2+(z-0.2)^2-(0.047*(t-09.9999))^2 \\\\\n",
    "(x+0.5)^2+(y-1.5)^2+(z-1.8)^2-(0.047*(t-13.0681))^2 \\\\\n",
    "(x+1.7)^2+(y-0.8)^2+(z-1.3)^2-(0.047*(t-02.0251))^2 \\\\\n",
    "(x-1.7)^2+(y-1.4)^2+(z+0.5)^2-(0.047*(t-10.5317))^2\n",
    "\\end{bmatrix}\n",
    "= 0.\n",
    "\\end{equation}\n",
    "$"
   ]
  },
  {
   "cell_type": "code",
   "execution_count": 1,
   "metadata": {},
   "outputs": [
    {
     "data": {
      "text/plain": [
       "4-element Array{Float64,1}:\n",
       " 0.0\n",
       " 2.82377449586\n",
       " 4.4404602765600005\n",
       " 0.7683539358599999"
      ]
     },
     "execution_count": 1,
     "metadata": {},
     "output_type": "execute_result"
    }
   ],
   "source": [
    "f(x) = [(x[1]-1.2)^2+(x[2]-2.3)^2+(x[3]-0.2)^2-0.047*(x[4]-09.9999)^2,\n",
    "    (x[1]+0.5)^2+(x[2]-1.5)^2+(x[3]-1.8)^2-0.047*(x[4]-13.0681)^2,\n",
    "    (x[1]+1.7)^2+(x[2]-0.8)^2+(x[3]-1.3)^2-0.047*(x[4]-02.0251)^2,\n",
    "    (x[1]-1.7)^2+(x[2]-1.4)^2+(x[3]+0.5)^2-0.047*(x[4]-10.5317)^2]./2\n",
    "\n",
    "f([1.2 2.3 0.2 9.9999])"
   ]
  },
  {
   "cell_type": "markdown",
   "metadata": {},
   "source": [
    "## Jacobian\n",
    "\n",
    "$\n",
    "\\begin{equation}\n",
    "Df(x_0) = \n",
    "\\begin{bmatrix}\n",
    "(x-1.2) & (y-2.3) & (z-0.2) & -0.047(t-09.9999)\\\\\n",
    "(x+0.5) & (y-1.5) & (z-1.8) & -0.047(t-13.0681)\\\\\n",
    "(x+1.7) & (y-0.8) & (z-1.3) & -0.047(t-02.0251)\\\\\n",
    "(x-1.7) & (y-1.4) & (z+0.5) & -0.047(t-10.5317)\n",
    "\\end{bmatrix}.\n",
    "\\end{equation}\n",
    "$"
   ]
  },
  {
   "cell_type": "code",
   "execution_count": 2,
   "metadata": {},
   "outputs": [
    {
     "data": {
      "text/plain": [
       "4×4 Array{Float64,2}:\n",
       " 0.25  -0.45  -0.35  -0.0124973\n",
       " 1.1   -0.05  -1.15   0.0596054\n",
       " 1.7    0.3   -0.9   -0.199905\n",
       " 0.0    0.0    0.0   -0.0"
      ]
     },
     "execution_count": 2,
     "metadata": {},
     "output_type": "execute_result"
    }
   ],
   "source": [
    "D(x) = [x[1]-1.2 x[2]-2.3 x[3]-0.2 -0.047*(x[4]-09.9999);\n",
    "    x[1]+0.5 x[2]-1.5 x[3]-1.8 -0.047*(x[4]-13.0681);\n",
    "    x[1]+1.7 x[2]-0.8 x[3]-1.3 -0.047*(x[4]-02.0251);\n",
    "    x[1]-1.7 x[2]-1.4 x[3]+0.5 -0.047*(x[4]-10.5317)]/2\n",
    "\n",
    "D([1.7 1.4 -0.5 10.5317])"
   ]
  },
  {
   "cell_type": "markdown",
   "metadata": {},
   "source": [
    "# Solutions"
   ]
  },
  {
   "cell_type": "code",
   "execution_count": 3,
   "metadata": {},
   "outputs": [
    {
     "data": {
      "text/plain": [
       "1×4 Array{Float64,2}:\n",
       " -0.152014  1.16284  0.239069  3.61735"
      ]
     },
     "execution_count": 3,
     "metadata": {},
     "output_type": "execute_result"
    }
   ],
   "source": [
    "using LinearAlgebra\n",
    "\n",
    "function gps(x)\n",
    "    t = 1            # tolerance of answers\n",
    "    for i=1:1e5\n",
    "        d = f(x)\\D(x)\n",
    "        x -= d\n",
    "        if norm(d)<1e-15 return x end\n",
    "    end\n",
    "    return x\n",
    "end\n",
    "\n",
    "s = gps([0 0 0 0])"
   ]
  },
  {
   "cell_type": "code",
   "execution_count": 4,
   "metadata": {},
   "outputs": [
    {
     "data": {
      "text/plain": [
       "1×4 Transpose{Float64,Array{Float64,1}}:\n",
       " 1.73099  0.961006  -0.698654  -0.00586697"
      ]
     },
     "execution_count": 4,
     "metadata": {},
     "output_type": "execute_result"
    }
   ],
   "source": [
    "b = [-1.0299;-1.5499;-1.6699]\n",
    "A = [-3.4  1.6  3.2  -0.01355  ;\n",
    "-5.8  -3    2.2  0.0352   ;\n",
    "1     -1.8  -1.4  -0.00235] \n",
    "\n",
    "s = b\\A"
   ]
  },
  {
   "cell_type": "markdown",
   "metadata": {},
   "source": [
    "## Adjourn"
   ]
  },
  {
   "cell_type": "code",
   "execution_count": 5,
   "metadata": {},
   "outputs": [
    {
     "name": "stdout",
     "output_type": "stream",
     "text": [
      "mahdiar\n"
     ]
    },
    {
     "data": {
      "text/plain": [
       "\"2021/March/19 11:13\""
      ]
     },
     "execution_count": 5,
     "metadata": {},
     "output_type": "execute_result"
    }
   ],
   "source": [
    "using Dates\n",
    "\n",
    "println(\"mahdiar\")\n",
    "Dates.format(now(), \"Y/U/d HH:MM\")  "
   ]
  }
 ],
 "metadata": {
  "kernelspec": {
   "display_name": "Julia 1.5.3",
   "language": "julia",
   "name": "julia-1.5"
  },
  "language_info": {
   "file_extension": ".jl",
   "mimetype": "application/julia",
   "name": "julia",
   "version": "1.5.3"
  }
 },
 "nbformat": 4,
 "nbformat_minor": 4
}
