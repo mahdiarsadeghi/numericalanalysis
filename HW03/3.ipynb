{
 "cells": [
  {
   "cell_type": "markdown",
   "metadata": {},
   "source": [
    "# Truss Bridge"
   ]
  },
  {
   "cell_type": "markdown",
   "metadata": {},
   "source": [
    "# Equilibrium equations"
   ]
  },
  {
   "cell_type": "markdown",
   "metadata": {},
   "source": [
    "## a\n",
    "\n",
    "$\n",
    "\\begin{align}\n",
    "-f_1 \\cos(45) - f_2 +r_{ax} & = 0 \\\\\n",
    "-f_1 \\cos(45) + r_{ay} & = 0 \n",
    "\\end{align}\n",
    "$\n",
    "\n",
    "## b\n",
    "\n",
    "$\n",
    "\\begin{align}\n",
    "f_1 \\cos(45) - f_4 & = 0 \\\\\n",
    "f_1 \\sin(45) + f_3 & = 0 \\\\ \n",
    "\\end{align}\n",
    "$\n",
    "\n",
    "## c\n",
    "\n",
    "$\n",
    "\\begin{align}\n",
    "f_2 - f_5 \\cos(45) - f_6 & = 0 \\\\\n",
    "-f_3 - f_5 \\cos(45) & = -T_c \\\\\n",
    "\\end{align}\n",
    "$\n",
    "\n",
    "## d\n",
    "\n",
    "$\n",
    "\\begin{align}\n",
    "f_4 + f_5 \\cos(45) - f_8 \\cos(45) & = 0 \\\\\n",
    "f_8 \\sin(45) + f_5 \\sin(45) + f_7 & = 0 \\\\\n",
    "\\end{align}\n",
    "$\n",
    "\n",
    "## e\n",
    "\n",
    "$\n",
    "\\begin{align}\n",
    "f_6 - f_9 & = 0 \\\\\n",
    "- f_7 & = - T_e \\\\ \n",
    "\\end{align}\n",
    "$\n",
    "\n",
    "## f\n",
    "\n",
    "$\n",
    "\\begin{align}\n",
    "f_8 \\cos(45) + f_9 & = 0 \\\\\n",
    "-f_8 \\cos(45) + r_{fy} & = 0 \n",
    "\\end{align}\n",
    "$"
   ]
  },
  {
   "cell_type": "markdown",
   "metadata": {},
   "source": [
    "# Matrix equation"
   ]
  },
  {
   "cell_type": "markdown",
   "metadata": {},
   "source": [
    "$\n",
    "\\begin{align}\n",
    "f_i &= [f_1,f_2,f_3,f_4,f_5,f_6,f_7,f_8,f_9, r_{ax}, r_{ay}, r_{fy}]^T \\\\\n",
    "f_e &= [0,0,0,0,0,T_c,0,0,0, T_e, 0, 0]^T \\\\\n",
    "\\end{align}\n",
    "$\n",
    "\n",
    "\n",
    "$$ A_{12 \\times 12} = \n",
    "\\begin{bmatrix} \n",
    "-\\frac{\\sqrt(2)}{2} & -1 & 0 & 0 & 0 & 0 & 0 & 0 & 0 & 1 & 0 & 0 \\\\ \n",
    "-\\frac{\\sqrt(2)}{2} & 0 & 0 & 0 & 0 & 0 & 0 & 0 & 0 & 0 & 1 & 0 \\\\ \n",
    "\\frac{\\sqrt(2)}{2} & 0 & 0 & -1 & 0 & 0 & 0 & 0 & 0 & 0 & 0 & 0\\\\ \n",
    "\\frac{\\sqrt(2)}{2} & 0 & 1 & 0 & 0 & 0 & 0 & 0 & 0 & 0 & 0 & 0\\\\\n",
    "0 & 1 & 0 & 0 & -\\frac{\\sqrt(2)}{2} & -1 & 0 & 0 & 0 & 0 & 0 & 0\\\\ \n",
    "0 & 0 & -1 & 0 & -\\frac{\\sqrt(2)}{2} & 0 & 0 & 0 & 0 & 0 & 0 & 0\\\\\n",
    "0 & 0 & 0 & 1 & \\frac{\\sqrt(2)}{2} & 0 & 0 & -\\frac{\\sqrt(2)}{2} & 0 & 0 & 0 & 0\\\\ \n",
    "0 & 0 & 0 & 0 & \\frac{\\sqrt(2)}{2} & 0 & 1 & \\frac{\\sqrt(2)}{2} & 0 & 0 & 0 & 0\\\\\n",
    "0 & 0 & 0 & 0 & 0 & 1 & 0 & 0 & -1 & 0 & 0 & 0\\\\ \n",
    "0 & 0 & 0 & 0 & 0 & 0 & -1 & 0 & 0 & 0 & 0 & 0\\\\\n",
    "0 & 0 & 0 & 0 & 0 & 0 & 0 & \\frac{\\sqrt(2)}{2} & 1 & 0 & 0 & 0\\\\\n",
    "0 & 0 & 0 & 0 & 0 & 0 & 0 & -\\frac{\\sqrt(2)}{2} & 0 & 0 & 0 & 1\n",
    "\\end{bmatrix}\n",
    "$$"
   ]
  },
  {
   "cell_type": "markdown",
   "metadata": {},
   "source": [
    "# Solution"
   ]
  },
  {
   "cell_type": "code",
   "execution_count": 1,
   "metadata": {},
   "outputs": [
    {
     "data": {
      "text/plain": [
       "12-element Array{Float64,1}:\n",
       "  0.0\n",
       "  0.0\n",
       " -0.06666666666666667\n",
       "  0.0\n",
       " -0.04714045207910317\n",
       "  0.0\n",
       " -0.06666666666666667\n",
       "  0.0\n",
       "  0.0\n",
       "  0.0\n",
       "  0.0\n",
       "  0.0"
      ]
     },
     "execution_count": 1,
     "metadata": {},
     "output_type": "execute_result"
    }
   ],
   "source": [
    "A = [-sqrt(2)/2  -1  0  0  0  0  0  0  0  1  0  0 ; \n",
    "-sqrt(2)/2  0  0  0  0  0  0  0  0  0  1  0 ; \n",
    "sqrt(2)/2  0  0  -1  0  0  0  0  0  0  0  0; \n",
    "sqrt(2)/2  0  1  0  0  0  0  0  0  0  0  0;\n",
    "0  1  0  0  -sqrt(2)/2  -1  0  0  0  0  0  0; \n",
    "0  0  -1  0  -sqrt(2)/2  0  0  0  0  0  0  0;\n",
    "0  0  0  1  sqrt(2)/2  0  0  -sqrt(2)/2  0  0  0  0; \n",
    "0  0  0  0  sqrt(2)/2  0  1  sqrt(2)/2  0  0  0  0;\n",
    "0  0  0  0  0  1  0  0  -1  0  0  0; \n",
    "0  0  0  0  0  0  -1  0  0  0  0  0;\n",
    "0  0  0  0  0  0  0  sqrt(2)/2  1  0  0  0;\n",
    "0  0  0  0  0  0  0  -sqrt(2)/2  0  0  0  1];\n",
    "\n",
    "fₑ = [0,0,0,0,0,7.5,0,0,0, 7.5, 0, 0]\n",
    "\n",
    "fᵢ = fₑ \\ A;\n",
    "fᵢ'"
   ]
  },
  {
   "cell_type": "markdown",
   "metadata": {},
   "source": [
    "## Will the bridge collapse? \n",
    "\n",
    "No, and not even with 20 ton truck. "
   ]
  },
  {
   "cell_type": "code",
   "execution_count": 2,
   "metadata": {},
   "outputs": [
    {
     "data": {
      "text/plain": [
       "12-element Array{Float64,1}:\n",
       "  0.0\n",
       "  0.0\n",
       " -0.05\n",
       "  0.0\n",
       " -0.03535533905932738\n",
       "  0.0\n",
       " -0.05\n",
       "  0.0\n",
       "  0.0\n",
       "  0.0\n",
       "  0.0\n",
       "  0.0"
      ]
     },
     "execution_count": 2,
     "metadata": {},
     "output_type": "execute_result"
    }
   ],
   "source": [
    "fₑ = [0,0,0,0,0,10,0,0,0, 10, 0, 0]\n",
    "fᵢ = fₑ \\ A;\n",
    "fᵢ'"
   ]
  },
  {
   "cell_type": "markdown",
   "metadata": {},
   "source": [
    "## Adjourn"
   ]
  },
  {
   "cell_type": "code",
   "execution_count": 3,
   "metadata": {},
   "outputs": [
    {
     "name": "stdout",
     "output_type": "stream",
     "text": [
      "mahdiar\n"
     ]
    },
    {
     "data": {
      "text/plain": [
       "\"2021/February/11 14:51\""
      ]
     },
     "execution_count": 3,
     "metadata": {},
     "output_type": "execute_result"
    }
   ],
   "source": [
    "using Dates\n",
    "println(\"mahdiar\")\n",
    "Dates.format(now(), \"Y/U/d HH:MM\")  "
   ]
  }
 ],
 "metadata": {
  "kernelspec": {
   "display_name": "Julia 1.5.3",
   "language": "julia",
   "name": "julia-1.5"
  },
  "language_info": {
   "file_extension": ".jl",
   "mimetype": "application/julia",
   "name": "julia",
   "version": "1.5.3"
  }
 },
 "nbformat": 4,
 "nbformat_minor": 4
}
